{
  "cells": [
    {
      "cell_type": "code",
      "execution_count": 1,
      "metadata": {
        "colab": {
          "base_uri": "https://localhost:8080/"
        },
        "id": "kkWXpveI8dvz",
        "outputId": "2c12be01-9340-4721-fe63-fc4b8e019351"
      },
      "outputs": [
        {
          "name": "stdout",
          "output_type": "stream",
          "text": [
            "Defaulting to user installation because normal site-packages is not writeable\n",
            "Collecting kagglehub\n",
            "  Using cached kagglehub-0.3.6-py3-none-any.whl.metadata (30 kB)\n",
            "Requirement already satisfied: packaging in c:\\users\\kiit\\appdata\\local\\packages\\pythonsoftwarefoundation.python.3.13_qbz5n2kfra8p0\\localcache\\local-packages\\python313\\site-packages (from kagglehub) (24.2)\n",
            "Collecting requests (from kagglehub)\n",
            "  Using cached requests-2.32.3-py3-none-any.whl.metadata (4.6 kB)\n",
            "Collecting tqdm (from kagglehub)\n",
            "  Using cached tqdm-4.67.1-py3-none-any.whl.metadata (57 kB)\n",
            "Collecting charset-normalizer<4,>=2 (from requests->kagglehub)\n",
            "  Downloading charset_normalizer-3.4.1-cp313-cp313-win_amd64.whl.metadata (36 kB)\n",
            "Collecting idna<4,>=2.5 (from requests->kagglehub)\n",
            "  Using cached idna-3.10-py3-none-any.whl.metadata (10 kB)\n",
            "Collecting urllib3<3,>=1.21.1 (from requests->kagglehub)\n",
            "  Using cached urllib3-2.3.0-py3-none-any.whl.metadata (6.5 kB)\n",
            "Collecting certifi>=2017.4.17 (from requests->kagglehub)\n",
            "  Using cached certifi-2024.12.14-py3-none-any.whl.metadata (2.3 kB)\n",
            "Requirement already satisfied: colorama in c:\\users\\kiit\\appdata\\local\\packages\\pythonsoftwarefoundation.python.3.13_qbz5n2kfra8p0\\localcache\\local-packages\\python313\\site-packages (from tqdm->kagglehub) (0.4.6)\n",
            "Using cached kagglehub-0.3.6-py3-none-any.whl (51 kB)\n",
            "Using cached requests-2.32.3-py3-none-any.whl (64 kB)\n",
            "Using cached tqdm-4.67.1-py3-none-any.whl (78 kB)\n",
            "Using cached certifi-2024.12.14-py3-none-any.whl (164 kB)\n",
            "Downloading charset_normalizer-3.4.1-cp313-cp313-win_amd64.whl (102 kB)\n",
            "Using cached idna-3.10-py3-none-any.whl (70 kB)\n",
            "Using cached urllib3-2.3.0-py3-none-any.whl (128 kB)\n",
            "Installing collected packages: urllib3, tqdm, idna, charset-normalizer, certifi, requests, kagglehub\n",
            "Successfully installed certifi-2024.12.14 charset-normalizer-3.4.1 idna-3.10 kagglehub-0.3.6 requests-2.32.3 tqdm-4.67.1 urllib3-2.3.0\n",
            "Note: you may need to restart the kernel to use updated packages.\n"
          ]
        }
      ],
      "source": [
        "pip install kagglehub\n"
      ]
    },
    {
      "cell_type": "code",
      "execution_count": 1,
      "metadata": {
        "colab": {
          "base_uri": "https://localhost:8080/"
        },
        "id": "9rU__O468dv1",
        "outputId": "795018b3-fef5-4ecf-e748-9131e4066520"
      },
      "outputs": [
        {
          "name": "stdout",
          "output_type": "stream",
          "text": [
            "Downloading from https://www.kaggle.com/api/v1/datasets/download/aliredaelblgihy/social-media-engagement-report?dataset_version_number=1...\n"
          ]
        },
        {
          "name": "stderr",
          "output_type": "stream",
          "text": [
            "100%|██████████| 46.8M/46.8M [00:01<00:00, 40.7MB/s]"
          ]
        },
        {
          "name": "stdout",
          "output_type": "stream",
          "text": [
            "Extracting files...\n"
          ]
        },
        {
          "name": "stderr",
          "output_type": "stream",
          "text": [
            "\n"
          ]
        },
        {
          "name": "stdout",
          "output_type": "stream",
          "text": [
            "Path to dataset files: /root/.cache/kagglehub/datasets/aliredaelblgihy/social-media-engagement-report/versions/1\n"
          ]
        }
      ],
      "source": [
        "import kagglehub\n",
        "\n",
        "# Download latest version\n",
        "path = kagglehub.dataset_download(\"aliredaelblgihy/social-media-engagement-report\")\n",
        "\n",
        "print(\"Path to dataset files:\", path)"
      ]
    },
    {
      "cell_type": "code",
      "execution_count": 2,
      "metadata": {
        "colab": {
          "base_uri": "https://localhost:8080/"
        },
        "id": "EoQbaF498dv3",
        "outputId": "d82615a1-8382-4a57-f846-fcac0bb0354c"
      },
      "outputs": [
        {
          "name": "stdout",
          "output_type": "stream",
          "text": [
            "^C\n",
            "Note: you may need to restart the kernel to use updated packages.\n"
          ]
        }
      ],
      "source": [
        "pip install pandas"
      ]
    },
    {
      "cell_type": "code",
      "execution_count": 5,
      "metadata": {
        "colab": {
          "base_uri": "https://localhost:8080/"
        },
        "id": "LPhBIg3A8dv4",
        "outputId": "975870b3-37af-4f36-ecbe-c4fdbeac4b0c"
      },
      "outputs": [
        {
          "name": "stdout",
          "output_type": "stream",
          "text": [
            "Defaulting to user installation because normal site-packages is not writeable\n",
            "Collecting matplotlib\n",
            "  Downloading matplotlib-3.10.0-cp313-cp313-win_amd64.whl.metadata (11 kB)\n",
            "Collecting contourpy>=1.0.1 (from matplotlib)\n",
            "  Downloading contourpy-1.3.1-cp313-cp313-win_amd64.whl.metadata (5.4 kB)\n",
            "Collecting cycler>=0.10 (from matplotlib)\n",
            "  Using cached cycler-0.12.1-py3-none-any.whl.metadata (3.8 kB)\n",
            "Collecting fonttools>=4.22.0 (from matplotlib)\n",
            "  Downloading fonttools-4.55.5-cp313-cp313-win_amd64.whl.metadata (169 kB)\n",
            "Collecting kiwisolver>=1.3.1 (from matplotlib)\n",
            "  Downloading kiwisolver-1.4.8-cp313-cp313-win_amd64.whl.metadata (6.3 kB)\n",
            "Requirement already satisfied: numpy>=1.23 in c:\\users\\kiit\\appdata\\local\\packages\\pythonsoftwarefoundation.python.3.13_qbz5n2kfra8p0\\localcache\\local-packages\\python313\\site-packages (from matplotlib) (2.2.2)\n",
            "Requirement already satisfied: packaging>=20.0 in c:\\users\\kiit\\appdata\\local\\packages\\pythonsoftwarefoundation.python.3.13_qbz5n2kfra8p0\\localcache\\local-packages\\python313\\site-packages (from matplotlib) (24.2)\n",
            "Collecting pillow>=8 (from matplotlib)\n",
            "  Downloading pillow-11.1.0-cp313-cp313-win_amd64.whl.metadata (9.3 kB)\n",
            "Collecting pyparsing>=2.3.1 (from matplotlib)\n",
            "  Using cached pyparsing-3.2.1-py3-none-any.whl.metadata (5.0 kB)\n",
            "Requirement already satisfied: python-dateutil>=2.7 in c:\\users\\kiit\\appdata\\local\\packages\\pythonsoftwarefoundation.python.3.13_qbz5n2kfra8p0\\localcache\\local-packages\\python313\\site-packages (from matplotlib) (2.9.0.post0)\n",
            "Requirement already satisfied: six>=1.5 in c:\\users\\kiit\\appdata\\local\\packages\\pythonsoftwarefoundation.python.3.13_qbz5n2kfra8p0\\localcache\\local-packages\\python313\\site-packages (from python-dateutil>=2.7->matplotlib) (1.17.0)\n",
            "Downloading matplotlib-3.10.0-cp313-cp313-win_amd64.whl (8.0 MB)\n",
            "   ---------------------------------------- 0.0/8.0 MB ? eta -:--:--\n",
            "   ---------------- ----------------------- 3.4/8.0 MB 17.3 MB/s eta 0:00:01\n",
            "   ---------------------------------------- 8.0/8.0 MB 21.0 MB/s eta 0:00:00\n",
            "Downloading contourpy-1.3.1-cp313-cp313-win_amd64.whl (220 kB)\n",
            "Using cached cycler-0.12.1-py3-none-any.whl (8.3 kB)\n",
            "Downloading fonttools-4.55.5-cp313-cp313-win_amd64.whl (2.2 MB)\n",
            "   ---------------------------------------- 0.0/2.2 MB ? eta -:--:--\n",
            "   ---------------------------------------- 2.2/2.2 MB 18.6 MB/s eta 0:00:00\n",
            "Downloading kiwisolver-1.4.8-cp313-cp313-win_amd64.whl (71 kB)\n",
            "Downloading pillow-11.1.0-cp313-cp313-win_amd64.whl (2.6 MB)\n",
            "   ---------------------------------------- 0.0/2.6 MB ? eta -:--:--\n",
            "   ---------------------------------------- 2.6/2.6 MB 22.5 MB/s eta 0:00:00\n",
            "Using cached pyparsing-3.2.1-py3-none-any.whl (107 kB)\n",
            "Installing collected packages: pyparsing, pillow, kiwisolver, fonttools, cycler, contourpy, matplotlib\n",
            "Successfully installed contourpy-1.3.1 cycler-0.12.1 fonttools-4.55.5 kiwisolver-1.4.8 matplotlib-3.10.0 pillow-11.1.0 pyparsing-3.2.1\n",
            "Note: you may need to restart the kernel to use updated packages.\n"
          ]
        }
      ],
      "source": [
        "pip install matplotlib"
      ]
    },
    {
      "cell_type": "code",
      "execution_count": 6,
      "metadata": {
        "colab": {
          "base_uri": "https://localhost:8080/"
        },
        "id": "bbwk2srW8dv4",
        "outputId": "59f0a3e6-70c9-4d6a-fa5c-d52362af9666"
      },
      "outputs": [
        {
          "name": "stdout",
          "output_type": "stream",
          "text": [
            "Defaulting to user installation because normal site-packages is not writeable\n",
            "Note: you may need to restart the kernel to use updated packages.\n"
          ]
        },
        {
          "name": "stderr",
          "output_type": "stream",
          "text": [
            "ERROR: Could not find a version that satisfies the requirement tensorflow (from versions: none)\n",
            "ERROR: No matching distribution found for tensorflow\n"
          ]
        }
      ],
      "source": [
        "pip install tensorflow"
      ]
    },
    {
      "cell_type": "code",
      "execution_count": 9,
      "metadata": {
        "colab": {
          "base_uri": "https://localhost:8080/"
        },
        "id": "kPMQDZxd8dv5",
        "outputId": "6e9d2cc5-18b0-4d0f-f54e-339dfe696022"
      },
      "outputs": [
        {
          "name": "stdout",
          "output_type": "stream",
          "text": [
            "Requirement already satisfied: seaborn in /usr/local/lib/python3.11/dist-packages (0.13.2)\n",
            "Requirement already satisfied: numpy!=1.24.0,>=1.20 in /usr/local/lib/python3.11/dist-packages (from seaborn) (1.26.4)\n",
            "Requirement already satisfied: pandas>=1.2 in /usr/local/lib/python3.11/dist-packages (from seaborn) (2.2.2)\n",
            "Requirement already satisfied: matplotlib!=3.6.1,>=3.4 in /usr/local/lib/python3.11/dist-packages (from seaborn) (3.10.0)\n",
            "Requirement already satisfied: contourpy>=1.0.1 in /usr/local/lib/python3.11/dist-packages (from matplotlib!=3.6.1,>=3.4->seaborn) (1.3.1)\n",
            "Requirement already satisfied: cycler>=0.10 in /usr/local/lib/python3.11/dist-packages (from matplotlib!=3.6.1,>=3.4->seaborn) (0.12.1)\n",
            "Requirement already satisfied: fonttools>=4.22.0 in /usr/local/lib/python3.11/dist-packages (from matplotlib!=3.6.1,>=3.4->seaborn) (4.55.3)\n",
            "Requirement already satisfied: kiwisolver>=1.3.1 in /usr/local/lib/python3.11/dist-packages (from matplotlib!=3.6.1,>=3.4->seaborn) (1.4.8)\n",
            "Requirement already satisfied: packaging>=20.0 in /usr/local/lib/python3.11/dist-packages (from matplotlib!=3.6.1,>=3.4->seaborn) (24.2)\n",
            "Requirement already satisfied: pillow>=8 in /usr/local/lib/python3.11/dist-packages (from matplotlib!=3.6.1,>=3.4->seaborn) (11.1.0)\n",
            "Requirement already satisfied: pyparsing>=2.3.1 in /usr/local/lib/python3.11/dist-packages (from matplotlib!=3.6.1,>=3.4->seaborn) (3.2.1)\n",
            "Requirement already satisfied: python-dateutil>=2.7 in /usr/local/lib/python3.11/dist-packages (from matplotlib!=3.6.1,>=3.4->seaborn) (2.8.2)\n",
            "Requirement already satisfied: pytz>=2020.1 in /usr/local/lib/python3.11/dist-packages (from pandas>=1.2->seaborn) (2024.2)\n",
            "Requirement already satisfied: tzdata>=2022.7 in /usr/local/lib/python3.11/dist-packages (from pandas>=1.2->seaborn) (2024.2)\n",
            "Requirement already satisfied: six>=1.5 in /usr/local/lib/python3.11/dist-packages (from python-dateutil>=2.7->matplotlib!=3.6.1,>=3.4->seaborn) (1.17.0)\n"
          ]
        }
      ],
      "source": [
        "pip install seaborn"
      ]
    },
    {
      "cell_type": "code",
      "execution_count": 3,
      "metadata": {
        "colab": {
          "base_uri": "https://localhost:8080/"
        },
        "id": "ksoo8z-Z8dv5",
        "outputId": "c6d2b705-8fb4-4f64-a0b8-8c7b4eaa1a8d"
      },
      "outputs": [
        {
          "name": "stdout",
          "output_type": "stream",
          "text": [
            "Defaulting to user installation because normal site-packages is not writeableNote: you may need to restart the kernel to use updated packages.\n",
            "\n",
            "Collecting openpyxl\n",
            "  Using cached openpyxl-3.1.5-py2.py3-none-any.whl.metadata (2.5 kB)\n",
            "Collecting et-xmlfile (from openpyxl)\n",
            "  Using cached et_xmlfile-2.0.0-py3-none-any.whl.metadata (2.7 kB)\n",
            "Using cached openpyxl-3.1.5-py2.py3-none-any.whl (250 kB)\n",
            "Using cached et_xmlfile-2.0.0-py3-none-any.whl (18 kB)\n",
            "Installing collected packages: et-xmlfile, openpyxl\n",
            "Successfully installed et-xmlfile-2.0.0 openpyxl-3.1.5\n"
          ]
        }
      ],
      "source": [
        "pip install openpyxl"
      ]
    },
    {
      "cell_type": "code",
      "execution_count": 4,
      "metadata": {
        "colab": {
          "base_uri": "https://localhost:8080/"
        },
        "id": "ESoNhp_S8dv6",
        "outputId": "9f93b5c7-ba56-4d2f-bde4-e2fbf730b48c"
      },
      "outputs": [
        {
          "name": "stdout",
          "output_type": "stream",
          "text": [
            "Defaulting to user installation because normal site-packages is not writeable\n",
            "Collecting pandas\n",
            "  Downloading pandas-2.2.3-cp313-cp313-win_amd64.whl.metadata (19 kB)\n",
            "Collecting numpy>=1.26.0 (from pandas)\n",
            "  Downloading numpy-2.2.2-cp313-cp313-win_amd64.whl.metadata (60 kB)\n",
            "Requirement already satisfied: python-dateutil>=2.8.2 in c:\\users\\kiit\\appdata\\local\\packages\\pythonsoftwarefoundation.python.3.13_qbz5n2kfra8p0\\localcache\\local-packages\\python313\\site-packages (from pandas) (2.9.0.post0)\n",
            "Collecting pytz>=2020.1 (from pandas)\n",
            "  Using cached pytz-2024.2-py2.py3-none-any.whl.metadata (22 kB)\n",
            "Collecting tzdata>=2022.7 (from pandas)\n",
            "  Downloading tzdata-2025.1-py2.py3-none-any.whl.metadata (1.4 kB)\n",
            "Requirement already satisfied: six>=1.5 in c:\\users\\kiit\\appdata\\local\\packages\\pythonsoftwarefoundation.python.3.13_qbz5n2kfra8p0\\localcache\\local-packages\\python313\\site-packages (from python-dateutil>=2.8.2->pandas) (1.17.0)\n",
            "Downloading pandas-2.2.3-cp313-cp313-win_amd64.whl (11.5 MB)\n",
            "   ---------------------------------------- 0.0/11.5 MB ? eta -:--:--\n",
            "   --------- ------------------------------ 2.6/11.5 MB 17.8 MB/s eta 0:00:01\n",
            "   ----------------- ---------------------- 5.0/11.5 MB 13.4 MB/s eta 0:00:01\n",
            "   ---------------------- ----------------- 6.6/11.5 MB 11.5 MB/s eta 0:00:01\n",
            "   ------------------------------ --------- 8.7/11.5 MB 10.8 MB/s eta 0:00:01\n",
            "   ------------------------------------ --- 10.5/11.5 MB 10.2 MB/s eta 0:00:01\n",
            "   ---------------------------------------- 11.5/11.5 MB 9.2 MB/s eta 0:00:00\n",
            "Downloading numpy-2.2.2-cp313-cp313-win_amd64.whl (12.6 MB)\n",
            "   ---------------------------------------- 0.0/12.6 MB ? eta -:--:--\n",
            "   --- ------------------------------------ 1.0/12.6 MB 6.7 MB/s eta 0:00:02\n",
            "   -------- ------------------------------- 2.6/12.6 MB 6.7 MB/s eta 0:00:02\n",
            "   ------------- -------------------------- 4.2/12.6 MB 6.8 MB/s eta 0:00:02\n",
            "   ----------------- ---------------------- 5.5/12.6 MB 6.8 MB/s eta 0:00:02\n",
            "   ---------------------- ----------------- 7.1/12.6 MB 6.9 MB/s eta 0:00:01\n",
            "   --------------------------- ------------ 8.7/12.6 MB 7.0 MB/s eta 0:00:01\n",
            "   ------------------------------- -------- 10.0/12.6 MB 6.9 MB/s eta 0:00:01\n",
            "   ------------------------------------ --- 11.5/12.6 MB 6.9 MB/s eta 0:00:01\n",
            "   ---------------------------------------- 12.6/12.6 MB 6.7 MB/s eta 0:00:00\n",
            "Using cached pytz-2024.2-py2.py3-none-any.whl (508 kB)\n",
            "Downloading tzdata-2025.1-py2.py3-none-any.whl (346 kB)\n",
            "Installing collected packages: pytz, tzdata, numpy, pandas\n",
            "Successfully installed numpy-2.2.2 pandas-2.2.3 pytz-2024.2 tzdata-2025.1\n"
          ]
        },
        {
          "name": "stdout",
          "output_type": "stream",
          "text": [
            "Defaulting to user installation because normal site-packages is not writeable\n",
            "Collecting scikit-learn\n",
            "  Downloading scikit_learn-1.6.1-cp313-cp313-win_amd64.whl.metadata (15 kB)\n",
            "Requirement already satisfied: numpy>=1.19.5 in c:\\users\\kiit\\appdata\\local\\packages\\pythonsoftwarefoundation.python.3.13_qbz5n2kfra8p0\\localcache\\local-packages\\python313\\site-packages (from scikit-learn) (2.2.2)\n",
            "Collecting scipy>=1.6.0 (from scikit-learn)\n",
            "  Downloading scipy-1.15.1-cp313-cp313-win_amd64.whl.metadata (60 kB)\n",
            "Collecting joblib>=1.2.0 (from scikit-learn)\n",
            "  Using cached joblib-1.4.2-py3-none-any.whl.metadata (5.4 kB)\n",
            "Collecting threadpoolctl>=3.1.0 (from scikit-learn)\n",
            "  Using cached threadpoolctl-3.5.0-py3-none-any.whl.metadata (13 kB)\n",
            "Downloading scikit_learn-1.6.1-cp313-cp313-win_amd64.whl (11.1 MB)\n",
            "   ---------------------------------------- 0.0/11.1 MB ? eta -:--:--\n",
            "   ------- -------------------------------- 2.1/11.1 MB 14.3 MB/s eta 0:00:01\n",
            "   --------------------------- ------------ 7.6/11.1 MB 21.1 MB/s eta 0:00:01\n",
            "   ---------------------------------------- 11.1/11.1 MB 20.1 MB/s eta 0:00:00\n",
            "Using cached joblib-1.4.2-py3-none-any.whl (301 kB)\n",
            "Downloading scipy-1.15.1-cp313-cp313-win_amd64.whl (43.6 MB)\n",
            "   ---------------------------------------- 0.0/43.6 MB ? eta -:--:--\n",
            "    --------------------------------------- 0.8/43.6 MB 6.8 MB/s eta 0:00:07\n",
            "   ------ --------------------------------- 6.8/43.6 MB 21.7 MB/s eta 0:00:02\n",
            "   ----------- ---------------------------- 12.3/43.6 MB 23.8 MB/s eta 0:00:02\n",
            "   ---------------- ----------------------- 18.4/43.6 MB 25.2 MB/s eta 0:00:02\n",
            "   --------------------- ------------------ 23.9/43.6 MB 26.0 MB/s eta 0:00:01\n",
            "   --------------------------- ------------ 29.9/43.6 MB 25.6 MB/s eta 0:00:01\n",
            "   --------------------------------- ------ 36.2/43.6 MB 26.2 MB/s eta 0:00:01\n",
            "   -------------------------------------- - 42.5/43.6 MB 26.6 MB/s eta 0:00:01\n",
            "   ---------------------------------------- 43.6/43.6 MB 24.1 MB/s eta 0:00:00\n",
            "Using cached threadpoolctl-3.5.0-py3-none-any.whl (18 kB)\n",
            "Installing collected packages: threadpoolctl, scipy, joblib, scikit-learn\n",
            "Successfully installed joblib-1.4.2 scikit-learn-1.6.1 scipy-1.15.1 threadpoolctl-3.5.0\n",
            "Note: you may need to restart the kernel to use updated packages.\n"
          ]
        }
      ],
      "source": [
        "pip install scikit-learn"
      ]
    },
    {
      "cell_type": "code",
      "execution_count": 2,
      "metadata": {
        "colab": {
          "base_uri": "https://localhost:8080/"
        },
        "id": "mWuJLDVQ8dv6",
        "outputId": "d8ecae6c-0558-4a16-8cbe-3daef6aa3f03"
      },
      "outputs": [
        {
          "name": "stdout",
          "output_type": "stream",
          "text": [
            "Dataset Files: ['social_media_engagement_data.xlsx', 'Social Media Engagement Report.pbix']\n"
          ]
        }
      ],
      "source": [
        "import os\n",
        "\n",
        "files = os.listdir(\"/root/.cache/kagglehub/datasets/aliredaelblgihy/social-media-engagement-report/versions/1\")\n",
        "print(\"Dataset Files:\", files)\n"
      ]
    },
    {
      "cell_type": "code",
      "execution_count": 3,
      "metadata": {
        "id": "-VgpyTfd8dv7"
      },
      "outputs": [],
      "source": [
        "import pandas as pd\n",
        "import matplotlib.pyplot as plt\n",
        "import seaborn as sns"
      ]
    },
    {
      "cell_type": "code",
      "execution_count": 4,
      "metadata": {
        "id": "KEejrsBe8dv8"
      },
      "outputs": [],
      "source": [
        "data = pd.read_excel(\"/root/.cache/kagglehub/datasets/aliredaelblgihy/social-media-engagement-report/versions/1/social_media_engagement_data.xlsx\")"
      ]
    },
    {
      "cell_type": "code",
      "execution_count": 5,
      "metadata": {
        "colab": {
          "base_uri": "https://localhost:8080/",
          "height": 590
        },
        "collapsed": true,
        "id": "E3wfKX3G8dv9",
        "outputId": "fcf56649-30ea-4f40-aa72-a9a4339fdb6b"
      },
      "outputs": [
        {
          "data": {
            "application/vnd.google.colaboratory.intrinsic+json": {
              "summary": "{\n  \"name\": \"data\",\n  \"rows\": 100000,\n  \"fields\": [\n    {\n      \"column\": \"Platform\",\n      \"properties\": {\n        \"dtype\": \"category\",\n        \"num_unique_values\": 4,\n        \"samples\": [\n          \"Instagram\",\n          \"Facebook\",\n          \"LinkedIn\"\n        ],\n        \"semantic_type\": \"\",\n        \"description\": \"\"\n      }\n    },\n    {\n      \"column\": \"Post ID\",\n      \"properties\": {\n        \"dtype\": \"string\",\n        \"num_unique_values\": 100000,\n        \"samples\": [\n          \"1c78ac7f-2963-4990-8d05-e14b76de93df\",\n          \"deb1b410-7059-4882-be6f-4f4fceebfd12\",\n          \"e9181e48-1f26-4306-a7e4-3b4215b14556\"\n        ],\n        \"semantic_type\": \"\",\n        \"description\": \"\"\n      }\n    },\n    {\n      \"column\": \"Post Type\",\n      \"properties\": {\n        \"dtype\": \"category\",\n        \"num_unique_values\": 3,\n        \"samples\": [\n          \"Video\",\n          \"Image\",\n          \"Link\"\n        ],\n        \"semantic_type\": \"\",\n        \"description\": \"\"\n      }\n    },\n    {\n      \"column\": \"Post Content\",\n      \"properties\": {\n        \"dtype\": \"string\",\n        \"num_unique_values\": 100000,\n        \"samples\": [\n          \"Hold remember people seat perform.\",\n          \"Main program discussion.\",\n          \"Yes protect find forget keep.\"\n        ],\n        \"semantic_type\": \"\",\n        \"description\": \"\"\n      }\n    },\n    {\n      \"column\": \"Post Timestamp\",\n      \"properties\": {\n        \"dtype\": \"date\",\n        \"min\": \"2021-03-08 19:13:37.453000\",\n        \"max\": \"2024-03-08 11:33:25.534000\",\n        \"num_unique_values\": 100000,\n        \"samples\": [\n          \"2024-02-23 00:12:53.666000\",\n          \"2023-03-07 11:48:32.872000\",\n          \"2023-07-22 11:27:05.805000\"\n        ],\n        \"semantic_type\": \"\",\n        \"description\": \"\"\n      }\n    },\n    {\n      \"column\": \"Likes\",\n      \"properties\": {\n        \"dtype\": \"number\",\n        \"std\": 289,\n        \"min\": 0,\n        \"max\": 1000,\n        \"num_unique_values\": 1001,\n        \"samples\": [\n          809,\n          934,\n          561\n        ],\n        \"semantic_type\": \"\",\n        \"description\": \"\"\n      }\n    },\n    {\n      \"column\": \"Comments\",\n      \"properties\": {\n        \"dtype\": \"number\",\n        \"std\": 144,\n        \"min\": 0,\n        \"max\": 500,\n        \"num_unique_values\": 501,\n        \"samples\": [\n          448,\n          272,\n          417\n        ],\n        \"semantic_type\": \"\",\n        \"description\": \"\"\n      }\n    },\n    {\n      \"column\": \"Shares\",\n      \"properties\": {\n        \"dtype\": \"number\",\n        \"std\": 57,\n        \"min\": 0,\n        \"max\": 200,\n        \"num_unique_values\": 201,\n        \"samples\": [\n          12,\n          21,\n          180\n        ],\n        \"semantic_type\": \"\",\n        \"description\": \"\"\n      }\n    },\n    {\n      \"column\": \"Impressions\",\n      \"properties\": {\n        \"dtype\": \"number\",\n        \"std\": 2594,\n        \"min\": 1000,\n        \"max\": 10000,\n        \"num_unique_values\": 9001,\n        \"samples\": [\n          1270,\n          3961,\n          6568\n        ],\n        \"semantic_type\": \"\",\n        \"description\": \"\"\n      }\n    },\n    {\n      \"column\": \"Reach\",\n      \"properties\": {\n        \"dtype\": \"number\",\n        \"std\": 1299,\n        \"min\": 500,\n        \"max\": 5000,\n        \"num_unique_values\": 4501,\n        \"samples\": [\n          3846,\n          2536,\n          3804\n        ],\n        \"semantic_type\": \"\",\n        \"description\": \"\"\n      }\n    },\n    {\n      \"column\": \"Engagement Rate\",\n      \"properties\": {\n        \"dtype\": \"number\",\n        \"std\": 37.74643169700386,\n        \"min\": 0.49,\n        \"max\": 312.55,\n        \"num_unique_values\": 15106,\n        \"samples\": [\n          12.29,\n          177.96,\n          51.65\n        ],\n        \"semantic_type\": \"\",\n        \"description\": \"\"\n      }\n    },\n    {\n      \"column\": \"Audience Age\",\n      \"properties\": {\n        \"dtype\": \"number\",\n        \"std\": 13,\n        \"min\": 18,\n        \"max\": 65,\n        \"num_unique_values\": 48,\n        \"samples\": [\n          18,\n          38,\n          21\n        ],\n        \"semantic_type\": \"\",\n        \"description\": \"\"\n      }\n    },\n    {\n      \"column\": \"Audience Gender\",\n      \"properties\": {\n        \"dtype\": \"category\",\n        \"num_unique_values\": 3,\n        \"samples\": [\n          \"Other\",\n          \"Male\",\n          \"Female\"\n        ],\n        \"semantic_type\": \"\",\n        \"description\": \"\"\n      }\n    },\n    {\n      \"column\": \"Audience Location\",\n      \"properties\": {\n        \"dtype\": \"category\",\n        \"num_unique_values\": 243,\n        \"samples\": [\n          \"Costa Rica\",\n          \"Jamaica\",\n          \"Sweden\"\n        ],\n        \"semantic_type\": \"\",\n        \"description\": \"\"\n      }\n    },\n    {\n      \"column\": \"Audience Interests\",\n      \"properties\": {\n        \"dtype\": \"category\",\n        \"num_unique_values\": 971,\n        \"samples\": [\n          \"pay\",\n          \"nothing\",\n          \"enter\"\n        ],\n        \"semantic_type\": \"\",\n        \"description\": \"\"\n      }\n    },\n    {\n      \"column\": \"Campaign ID\",\n      \"properties\": {\n        \"dtype\": \"category\",\n        \"num_unique_values\": 20132,\n        \"samples\": [\n          \"1fddf207-7901-448b-a6ad-781e33bd55c1\",\n          \"03d6473d-fa94-4092-ad64-a9f7357c7ccc\",\n          \"a851303a-4da3-467b-a702-e8e71aa29566\"\n        ],\n        \"semantic_type\": \"\",\n        \"description\": \"\"\n      }\n    },\n    {\n      \"column\": \"Sentiment\",\n      \"properties\": {\n        \"dtype\": \"category\",\n        \"num_unique_values\": 3,\n        \"samples\": [\n          \"Negative\",\n          \"Neutral\",\n          \"Positive\"\n        ],\n        \"semantic_type\": \"\",\n        \"description\": \"\"\n      }\n    },\n    {\n      \"column\": \"Influencer ID\",\n      \"properties\": {\n        \"dtype\": \"category\",\n        \"num_unique_values\": 9994,\n        \"samples\": [\n          \"19a41f05-83d2-49fc-bfe4-086a4c77af95\",\n          \"6aa0ca09-93da-4de2-864f-f1602bf686f2\",\n          \"a81e76bd-9aa0-4d72-90b6-62a8e7c43a77\"\n        ],\n        \"semantic_type\": \"\",\n        \"description\": \"\"\n      }\n    }\n  ]\n}",
              "type": "dataframe",
              "variable_name": "data"
            },
            "text/html": [
              "\n",
              "  <div id=\"df-8ec8a3e1-b59f-4ef3-a7cb-36258938556b\" class=\"colab-df-container\">\n",
              "    <div>\n",
              "<style scoped>\n",
              "    .dataframe tbody tr th:only-of-type {\n",
              "        vertical-align: middle;\n",
              "    }\n",
              "\n",
              "    .dataframe tbody tr th {\n",
              "        vertical-align: top;\n",
              "    }\n",
              "\n",
              "    .dataframe thead th {\n",
              "        text-align: right;\n",
              "    }\n",
              "</style>\n",
              "<table border=\"1\" class=\"dataframe\">\n",
              "  <thead>\n",
              "    <tr style=\"text-align: right;\">\n",
              "      <th></th>\n",
              "      <th>Platform</th>\n",
              "      <th>Post ID</th>\n",
              "      <th>Post Type</th>\n",
              "      <th>Post Content</th>\n",
              "      <th>Post Timestamp</th>\n",
              "      <th>Likes</th>\n",
              "      <th>Comments</th>\n",
              "      <th>Shares</th>\n",
              "      <th>Impressions</th>\n",
              "      <th>Reach</th>\n",
              "      <th>Engagement Rate</th>\n",
              "      <th>Audience Age</th>\n",
              "      <th>Audience Gender</th>\n",
              "      <th>Audience Location</th>\n",
              "      <th>Audience Interests</th>\n",
              "      <th>Campaign ID</th>\n",
              "      <th>Sentiment</th>\n",
              "      <th>Influencer ID</th>\n",
              "    </tr>\n",
              "  </thead>\n",
              "  <tbody>\n",
              "    <tr>\n",
              "      <th>0</th>\n",
              "      <td>LinkedIn</td>\n",
              "      <td>d49dadb4-fc1e-4775-88ad-d60b75cf5123</td>\n",
              "      <td>Video</td>\n",
              "      <td>Want that according same wish.</td>\n",
              "      <td>2021-04-23 08:19:49.255</td>\n",
              "      <td>415</td>\n",
              "      <td>77</td>\n",
              "      <td>85</td>\n",
              "      <td>2619</td>\n",
              "      <td>1842</td>\n",
              "      <td>31.32</td>\n",
              "      <td>29</td>\n",
              "      <td>Other</td>\n",
              "      <td>United Kingdom</td>\n",
              "      <td>respond</td>\n",
              "      <td>NaN</td>\n",
              "      <td>Negative</td>\n",
              "      <td>NaN</td>\n",
              "    </tr>\n",
              "    <tr>\n",
              "      <th>1</th>\n",
              "      <td>Instagram</td>\n",
              "      <td>16ce29c5-2dc7-478f-9814-a86754f3ce8b</td>\n",
              "      <td>Video</td>\n",
              "      <td>Increase fast partner south.</td>\n",
              "      <td>2023-07-30 06:40:06.356</td>\n",
              "      <td>908</td>\n",
              "      <td>125</td>\n",
              "      <td>85</td>\n",
              "      <td>1223</td>\n",
              "      <td>3884</td>\n",
              "      <td>28.78</td>\n",
              "      <td>48</td>\n",
              "      <td>Male</td>\n",
              "      <td>Greece</td>\n",
              "      <td>population</td>\n",
              "      <td>NaN</td>\n",
              "      <td>Neutral</td>\n",
              "      <td>NaN</td>\n",
              "    </tr>\n",
              "    <tr>\n",
              "      <th>2</th>\n",
              "      <td>Instagram</td>\n",
              "      <td>6a6cc741-72f4-4111-95a0-c5ee04a175a8</td>\n",
              "      <td>Video</td>\n",
              "      <td>Lawyer behavior born window couple sister.</td>\n",
              "      <td>2021-12-05 03:56:53.212</td>\n",
              "      <td>412</td>\n",
              "      <td>419</td>\n",
              "      <td>58</td>\n",
              "      <td>2165</td>\n",
              "      <td>849</td>\n",
              "      <td>104.71</td>\n",
              "      <td>55</td>\n",
              "      <td>Male</td>\n",
              "      <td>United States Virgin Islands</td>\n",
              "      <td>himself</td>\n",
              "      <td>NaN</td>\n",
              "      <td>Neutral</td>\n",
              "      <td>NaN</td>\n",
              "    </tr>\n",
              "    <tr>\n",
              "      <th>3</th>\n",
              "      <td>Twitter</td>\n",
              "      <td>0b5a3e70-c556-43cb-ad4f-a1d0003348bc</td>\n",
              "      <td>Image</td>\n",
              "      <td>Street great decade must.</td>\n",
              "      <td>2021-09-28 20:39:00.228</td>\n",
              "      <td>667</td>\n",
              "      <td>153</td>\n",
              "      <td>29</td>\n",
              "      <td>7191</td>\n",
              "      <td>3519</td>\n",
              "      <td>24.13</td>\n",
              "      <td>54</td>\n",
              "      <td>Other</td>\n",
              "      <td>Zambia</td>\n",
              "      <td>safe</td>\n",
              "      <td>NaN</td>\n",
              "      <td>NaN</td>\n",
              "      <td>NaN</td>\n",
              "    </tr>\n",
              "    <tr>\n",
              "      <th>4</th>\n",
              "      <td>Facebook</td>\n",
              "      <td>a7d3e958-e2fe-411e-a24a-b96e821fc050</td>\n",
              "      <td>Link</td>\n",
              "      <td>At clear meeting with reason ground continue c...</td>\n",
              "      <td>2023-02-27 17:51:21.425</td>\n",
              "      <td>659</td>\n",
              "      <td>215</td>\n",
              "      <td>34</td>\n",
              "      <td>3312</td>\n",
              "      <td>2032</td>\n",
              "      <td>44.69</td>\n",
              "      <td>33</td>\n",
              "      <td>Other</td>\n",
              "      <td>Afghanistan</td>\n",
              "      <td>well</td>\n",
              "      <td>6052b8d2-3403-4447-b0b4-c5ce20e6c8d0</td>\n",
              "      <td>NaN</td>\n",
              "      <td>NaN</td>\n",
              "    </tr>\n",
              "  </tbody>\n",
              "</table>\n",
              "</div>\n",
              "    <div class=\"colab-df-buttons\">\n",
              "\n",
              "  <div class=\"colab-df-container\">\n",
              "    <button class=\"colab-df-convert\" onclick=\"convertToInteractive('df-8ec8a3e1-b59f-4ef3-a7cb-36258938556b')\"\n",
              "            title=\"Convert this dataframe to an interactive table.\"\n",
              "            style=\"display:none;\">\n",
              "\n",
              "  <svg xmlns=\"http://www.w3.org/2000/svg\" height=\"24px\" viewBox=\"0 -960 960 960\">\n",
              "    <path d=\"M120-120v-720h720v720H120Zm60-500h600v-160H180v160Zm220 220h160v-160H400v160Zm0 220h160v-160H400v160ZM180-400h160v-160H180v160Zm440 0h160v-160H620v160ZM180-180h160v-160H180v160Zm440 0h160v-160H620v160Z\"/>\n",
              "  </svg>\n",
              "    </button>\n",
              "\n",
              "  <style>\n",
              "    .colab-df-container {\n",
              "      display:flex;\n",
              "      gap: 12px;\n",
              "    }\n",
              "\n",
              "    .colab-df-convert {\n",
              "      background-color: #E8F0FE;\n",
              "      border: none;\n",
              "      border-radius: 50%;\n",
              "      cursor: pointer;\n",
              "      display: none;\n",
              "      fill: #1967D2;\n",
              "      height: 32px;\n",
              "      padding: 0 0 0 0;\n",
              "      width: 32px;\n",
              "    }\n",
              "\n",
              "    .colab-df-convert:hover {\n",
              "      background-color: #E2EBFA;\n",
              "      box-shadow: 0px 1px 2px rgba(60, 64, 67, 0.3), 0px 1px 3px 1px rgba(60, 64, 67, 0.15);\n",
              "      fill: #174EA6;\n",
              "    }\n",
              "\n",
              "    .colab-df-buttons div {\n",
              "      margin-bottom: 4px;\n",
              "    }\n",
              "\n",
              "    [theme=dark] .colab-df-convert {\n",
              "      background-color: #3B4455;\n",
              "      fill: #D2E3FC;\n",
              "    }\n",
              "\n",
              "    [theme=dark] .colab-df-convert:hover {\n",
              "      background-color: #434B5C;\n",
              "      box-shadow: 0px 1px 3px 1px rgba(0, 0, 0, 0.15);\n",
              "      filter: drop-shadow(0px 1px 2px rgba(0, 0, 0, 0.3));\n",
              "      fill: #FFFFFF;\n",
              "    }\n",
              "  </style>\n",
              "\n",
              "    <script>\n",
              "      const buttonEl =\n",
              "        document.querySelector('#df-8ec8a3e1-b59f-4ef3-a7cb-36258938556b button.colab-df-convert');\n",
              "      buttonEl.style.display =\n",
              "        google.colab.kernel.accessAllowed ? 'block' : 'none';\n",
              "\n",
              "      async function convertToInteractive(key) {\n",
              "        const element = document.querySelector('#df-8ec8a3e1-b59f-4ef3-a7cb-36258938556b');\n",
              "        const dataTable =\n",
              "          await google.colab.kernel.invokeFunction('convertToInteractive',\n",
              "                                                    [key], {});\n",
              "        if (!dataTable) return;\n",
              "\n",
              "        const docLinkHtml = 'Like what you see? Visit the ' +\n",
              "          '<a target=\"_blank\" href=https://colab.research.google.com/notebooks/data_table.ipynb>data table notebook</a>'\n",
              "          + ' to learn more about interactive tables.';\n",
              "        element.innerHTML = '';\n",
              "        dataTable['output_type'] = 'display_data';\n",
              "        await google.colab.output.renderOutput(dataTable, element);\n",
              "        const docLink = document.createElement('div');\n",
              "        docLink.innerHTML = docLinkHtml;\n",
              "        element.appendChild(docLink);\n",
              "      }\n",
              "    </script>\n",
              "  </div>\n",
              "\n",
              "\n",
              "<div id=\"df-1f46fe90-f962-4aca-aed5-5aea08915b1c\">\n",
              "  <button class=\"colab-df-quickchart\" onclick=\"quickchart('df-1f46fe90-f962-4aca-aed5-5aea08915b1c')\"\n",
              "            title=\"Suggest charts\"\n",
              "            style=\"display:none;\">\n",
              "\n",
              "<svg xmlns=\"http://www.w3.org/2000/svg\" height=\"24px\"viewBox=\"0 0 24 24\"\n",
              "     width=\"24px\">\n",
              "    <g>\n",
              "        <path d=\"M19 3H5c-1.1 0-2 .9-2 2v14c0 1.1.9 2 2 2h14c1.1 0 2-.9 2-2V5c0-1.1-.9-2-2-2zM9 17H7v-7h2v7zm4 0h-2V7h2v10zm4 0h-2v-4h2v4z\"/>\n",
              "    </g>\n",
              "</svg>\n",
              "  </button>\n",
              "\n",
              "<style>\n",
              "  .colab-df-quickchart {\n",
              "      --bg-color: #E8F0FE;\n",
              "      --fill-color: #1967D2;\n",
              "      --hover-bg-color: #E2EBFA;\n",
              "      --hover-fill-color: #174EA6;\n",
              "      --disabled-fill-color: #AAA;\n",
              "      --disabled-bg-color: #DDD;\n",
              "  }\n",
              "\n",
              "  [theme=dark] .colab-df-quickchart {\n",
              "      --bg-color: #3B4455;\n",
              "      --fill-color: #D2E3FC;\n",
              "      --hover-bg-color: #434B5C;\n",
              "      --hover-fill-color: #FFFFFF;\n",
              "      --disabled-bg-color: #3B4455;\n",
              "      --disabled-fill-color: #666;\n",
              "  }\n",
              "\n",
              "  .colab-df-quickchart {\n",
              "    background-color: var(--bg-color);\n",
              "    border: none;\n",
              "    border-radius: 50%;\n",
              "    cursor: pointer;\n",
              "    display: none;\n",
              "    fill: var(--fill-color);\n",
              "    height: 32px;\n",
              "    padding: 0;\n",
              "    width: 32px;\n",
              "  }\n",
              "\n",
              "  .colab-df-quickchart:hover {\n",
              "    background-color: var(--hover-bg-color);\n",
              "    box-shadow: 0 1px 2px rgba(60, 64, 67, 0.3), 0 1px 3px 1px rgba(60, 64, 67, 0.15);\n",
              "    fill: var(--button-hover-fill-color);\n",
              "  }\n",
              "\n",
              "  .colab-df-quickchart-complete:disabled,\n",
              "  .colab-df-quickchart-complete:disabled:hover {\n",
              "    background-color: var(--disabled-bg-color);\n",
              "    fill: var(--disabled-fill-color);\n",
              "    box-shadow: none;\n",
              "  }\n",
              "\n",
              "  .colab-df-spinner {\n",
              "    border: 2px solid var(--fill-color);\n",
              "    border-color: transparent;\n",
              "    border-bottom-color: var(--fill-color);\n",
              "    animation:\n",
              "      spin 1s steps(1) infinite;\n",
              "  }\n",
              "\n",
              "  @keyframes spin {\n",
              "    0% {\n",
              "      border-color: transparent;\n",
              "      border-bottom-color: var(--fill-color);\n",
              "      border-left-color: var(--fill-color);\n",
              "    }\n",
              "    20% {\n",
              "      border-color: transparent;\n",
              "      border-left-color: var(--fill-color);\n",
              "      border-top-color: var(--fill-color);\n",
              "    }\n",
              "    30% {\n",
              "      border-color: transparent;\n",
              "      border-left-color: var(--fill-color);\n",
              "      border-top-color: var(--fill-color);\n",
              "      border-right-color: var(--fill-color);\n",
              "    }\n",
              "    40% {\n",
              "      border-color: transparent;\n",
              "      border-right-color: var(--fill-color);\n",
              "      border-top-color: var(--fill-color);\n",
              "    }\n",
              "    60% {\n",
              "      border-color: transparent;\n",
              "      border-right-color: var(--fill-color);\n",
              "    }\n",
              "    80% {\n",
              "      border-color: transparent;\n",
              "      border-right-color: var(--fill-color);\n",
              "      border-bottom-color: var(--fill-color);\n",
              "    }\n",
              "    90% {\n",
              "      border-color: transparent;\n",
              "      border-bottom-color: var(--fill-color);\n",
              "    }\n",
              "  }\n",
              "</style>\n",
              "\n",
              "  <script>\n",
              "    async function quickchart(key) {\n",
              "      const quickchartButtonEl =\n",
              "        document.querySelector('#' + key + ' button');\n",
              "      quickchartButtonEl.disabled = true;  // To prevent multiple clicks.\n",
              "      quickchartButtonEl.classList.add('colab-df-spinner');\n",
              "      try {\n",
              "        const charts = await google.colab.kernel.invokeFunction(\n",
              "            'suggestCharts', [key], {});\n",
              "      } catch (error) {\n",
              "        console.error('Error during call to suggestCharts:', error);\n",
              "      }\n",
              "      quickchartButtonEl.classList.remove('colab-df-spinner');\n",
              "      quickchartButtonEl.classList.add('colab-df-quickchart-complete');\n",
              "    }\n",
              "    (() => {\n",
              "      let quickchartButtonEl =\n",
              "        document.querySelector('#df-1f46fe90-f962-4aca-aed5-5aea08915b1c button');\n",
              "      quickchartButtonEl.style.display =\n",
              "        google.colab.kernel.accessAllowed ? 'block' : 'none';\n",
              "    })();\n",
              "  </script>\n",
              "</div>\n",
              "\n",
              "    </div>\n",
              "  </div>\n"
            ],
            "text/plain": [
              "    Platform                               Post ID Post Type  \\\n",
              "0   LinkedIn  d49dadb4-fc1e-4775-88ad-d60b75cf5123     Video   \n",
              "1  Instagram  16ce29c5-2dc7-478f-9814-a86754f3ce8b     Video   \n",
              "2  Instagram  6a6cc741-72f4-4111-95a0-c5ee04a175a8     Video   \n",
              "3    Twitter  0b5a3e70-c556-43cb-ad4f-a1d0003348bc     Image   \n",
              "4   Facebook  a7d3e958-e2fe-411e-a24a-b96e821fc050      Link   \n",
              "\n",
              "                                        Post Content          Post Timestamp  \\\n",
              "0                     Want that according same wish. 2021-04-23 08:19:49.255   \n",
              "1                       Increase fast partner south. 2023-07-30 06:40:06.356   \n",
              "2         Lawyer behavior born window couple sister. 2021-12-05 03:56:53.212   \n",
              "3                          Street great decade must. 2021-09-28 20:39:00.228   \n",
              "4  At clear meeting with reason ground continue c... 2023-02-27 17:51:21.425   \n",
              "\n",
              "   Likes  Comments  Shares  Impressions  Reach  Engagement Rate  Audience Age  \\\n",
              "0    415        77      85         2619   1842            31.32            29   \n",
              "1    908       125      85         1223   3884            28.78            48   \n",
              "2    412       419      58         2165    849           104.71            55   \n",
              "3    667       153      29         7191   3519            24.13            54   \n",
              "4    659       215      34         3312   2032            44.69            33   \n",
              "\n",
              "  Audience Gender             Audience Location Audience Interests  \\\n",
              "0           Other                United Kingdom            respond   \n",
              "1            Male                        Greece         population   \n",
              "2            Male  United States Virgin Islands            himself   \n",
              "3           Other                        Zambia               safe   \n",
              "4           Other                   Afghanistan               well   \n",
              "\n",
              "                            Campaign ID Sentiment Influencer ID  \n",
              "0                                   NaN  Negative           NaN  \n",
              "1                                   NaN   Neutral           NaN  \n",
              "2                                   NaN   Neutral           NaN  \n",
              "3                                   NaN       NaN           NaN  \n",
              "4  6052b8d2-3403-4447-b0b4-c5ce20e6c8d0       NaN           NaN  "
            ]
          },
          "execution_count": 5,
          "metadata": {},
          "output_type": "execute_result"
        }
      ],
      "source": [
        "data.head()"
      ]
    },
    {
      "cell_type": "code",
      "execution_count": 6,
      "metadata": {
        "id": "Fj8yEQFf8dv-"
      },
      "outputs": [],
      "source": [
        "data['Engagement Rate'] = (data['Likes'] + data['Comments'] + data['Shares']) / data['Reach']"
      ]
    },
    {
      "cell_type": "code",
      "execution_count": 7,
      "metadata": {
        "colab": {
          "base_uri": "https://localhost:8080/",
          "height": 648
        },
        "collapsed": true,
        "id": "dCXNP82_8dv-",
        "outputId": "fdaf8429-fd31-41d1-c592-3b3a58faebed"
      },
      "outputs": [
        {
          "data": {
            "text/html": [
              "<div>\n",
              "<style scoped>\n",
              "    .dataframe tbody tr th:only-of-type {\n",
              "        vertical-align: middle;\n",
              "    }\n",
              "\n",
              "    .dataframe tbody tr th {\n",
              "        vertical-align: top;\n",
              "    }\n",
              "\n",
              "    .dataframe thead th {\n",
              "        text-align: right;\n",
              "    }\n",
              "</style>\n",
              "<table border=\"1\" class=\"dataframe\">\n",
              "  <thead>\n",
              "    <tr style=\"text-align: right;\">\n",
              "      <th></th>\n",
              "      <th>0</th>\n",
              "    </tr>\n",
              "  </thead>\n",
              "  <tbody>\n",
              "    <tr>\n",
              "      <th>Platform</th>\n",
              "      <td>0</td>\n",
              "    </tr>\n",
              "    <tr>\n",
              "      <th>Post ID</th>\n",
              "      <td>0</td>\n",
              "    </tr>\n",
              "    <tr>\n",
              "      <th>Post Type</th>\n",
              "      <td>0</td>\n",
              "    </tr>\n",
              "    <tr>\n",
              "      <th>Post Content</th>\n",
              "      <td>0</td>\n",
              "    </tr>\n",
              "    <tr>\n",
              "      <th>Post Timestamp</th>\n",
              "      <td>0</td>\n",
              "    </tr>\n",
              "    <tr>\n",
              "      <th>Likes</th>\n",
              "      <td>0</td>\n",
              "    </tr>\n",
              "    <tr>\n",
              "      <th>Comments</th>\n",
              "      <td>0</td>\n",
              "    </tr>\n",
              "    <tr>\n",
              "      <th>Shares</th>\n",
              "      <td>0</td>\n",
              "    </tr>\n",
              "    <tr>\n",
              "      <th>Impressions</th>\n",
              "      <td>0</td>\n",
              "    </tr>\n",
              "    <tr>\n",
              "      <th>Reach</th>\n",
              "      <td>0</td>\n",
              "    </tr>\n",
              "    <tr>\n",
              "      <th>Engagement Rate</th>\n",
              "      <td>0</td>\n",
              "    </tr>\n",
              "    <tr>\n",
              "      <th>Audience Age</th>\n",
              "      <td>0</td>\n",
              "    </tr>\n",
              "    <tr>\n",
              "      <th>Audience Gender</th>\n",
              "      <td>0</td>\n",
              "    </tr>\n",
              "    <tr>\n",
              "      <th>Audience Location</th>\n",
              "      <td>0</td>\n",
              "    </tr>\n",
              "    <tr>\n",
              "      <th>Audience Interests</th>\n",
              "      <td>0</td>\n",
              "    </tr>\n",
              "    <tr>\n",
              "      <th>Campaign ID</th>\n",
              "      <td>79868</td>\n",
              "    </tr>\n",
              "    <tr>\n",
              "      <th>Sentiment</th>\n",
              "      <td>50100</td>\n",
              "    </tr>\n",
              "    <tr>\n",
              "      <th>Influencer ID</th>\n",
              "      <td>90006</td>\n",
              "    </tr>\n",
              "  </tbody>\n",
              "</table>\n",
              "</div><br><label><b>dtype:</b> int64</label>"
            ],
            "text/plain": [
              "Platform                  0\n",
              "Post ID                   0\n",
              "Post Type                 0\n",
              "Post Content              0\n",
              "Post Timestamp            0\n",
              "Likes                     0\n",
              "Comments                  0\n",
              "Shares                    0\n",
              "Impressions               0\n",
              "Reach                     0\n",
              "Engagement Rate           0\n",
              "Audience Age              0\n",
              "Audience Gender           0\n",
              "Audience Location         0\n",
              "Audience Interests        0\n",
              "Campaign ID           79868\n",
              "Sentiment             50100\n",
              "Influencer ID         90006\n",
              "dtype: int64"
            ]
          },
          "execution_count": 7,
          "metadata": {},
          "output_type": "execute_result"
        }
      ],
      "source": [
        "data.isnull().sum()\n"
      ]
    },
    {
      "cell_type": "code",
      "execution_count": 8,
      "metadata": {
        "id": "-4GrJ-FZ8dv_"
      },
      "outputs": [],
      "source": [
        "data.drop([\"Post ID\", \"Post Content\", \"Campaign ID\", \"Influencer ID\"], axis=1, inplace=True)"
      ]
    },
    {
      "cell_type": "code",
      "execution_count": 9,
      "metadata": {
        "colab": {
          "base_uri": "https://localhost:8080/"
        },
        "id": "L_bzZTW48dv_",
        "outputId": "82d898b1-418b-4f64-e1c4-03909bb1f86f"
      },
      "outputs": [
        {
          "name": "stderr",
          "output_type": "stream",
          "text": [
            "<ipython-input-9-6c91e0ada5f1>:2: FutureWarning: A value is trying to be set on a copy of a DataFrame or Series through chained assignment using an inplace method.\n",
            "The behavior will change in pandas 3.0. This inplace method will never work because the intermediate object on which we are setting values always behaves as a copy.\n",
            "\n",
            "For example, when doing 'df[col].method(value, inplace=True)', try using 'df.method({col: value}, inplace=True)' or df[col] = df[col].method(value) instead, to perform the operation inplace on the original object.\n",
            "\n",
            "\n",
            "  data[\"Sentiment\"].fillna(data[\"Sentiment\"].mode()[0], inplace=True)\n",
            "<ipython-input-9-6c91e0ada5f1>:5: FutureWarning: A value is trying to be set on a copy of a DataFrame or Series through chained assignment using an inplace method.\n",
            "The behavior will change in pandas 3.0. This inplace method will never work because the intermediate object on which we are setting values always behaves as a copy.\n",
            "\n",
            "For example, when doing 'df[col].method(value, inplace=True)', try using 'df.method({col: value}, inplace=True)' or df[col] = df[col].method(value) instead, to perform the operation inplace on the original object.\n",
            "\n",
            "\n",
            "  data[col].fillna(data[col].median(), inplace=True)\n"
          ]
        }
      ],
      "source": [
        "# since sentiment is categorical feature , using mode to fill NULL values\n",
        "data[\"Sentiment\"].fillna(data[\"Sentiment\"].mode()[0], inplace=True)\n",
        "numeric_cols = [\"Engagement Rate\", \"Likes\", \"Shares\", \"Comments\", \"Impressions\", \"Reach\"]\n",
        "for col in numeric_cols:\n",
        "    data[col].fillna(data[col].median(), inplace=True)"
      ]
    },
    {
      "cell_type": "code",
      "execution_count": 10,
      "metadata": {
        "colab": {
          "base_uri": "https://localhost:8080/",
          "height": 523
        },
        "id": "WzS3XtU78dwA",
        "outputId": "adb5c6aa-1c2c-41b2-f6d1-d12af41ec89a"
      },
      "outputs": [
        {
          "data": {
            "text/html": [
              "<div>\n",
              "<style scoped>\n",
              "    .dataframe tbody tr th:only-of-type {\n",
              "        vertical-align: middle;\n",
              "    }\n",
              "\n",
              "    .dataframe tbody tr th {\n",
              "        vertical-align: top;\n",
              "    }\n",
              "\n",
              "    .dataframe thead th {\n",
              "        text-align: right;\n",
              "    }\n",
              "</style>\n",
              "<table border=\"1\" class=\"dataframe\">\n",
              "  <thead>\n",
              "    <tr style=\"text-align: right;\">\n",
              "      <th></th>\n",
              "      <th>0</th>\n",
              "    </tr>\n",
              "  </thead>\n",
              "  <tbody>\n",
              "    <tr>\n",
              "      <th>Platform</th>\n",
              "      <td>0</td>\n",
              "    </tr>\n",
              "    <tr>\n",
              "      <th>Post Type</th>\n",
              "      <td>0</td>\n",
              "    </tr>\n",
              "    <tr>\n",
              "      <th>Post Timestamp</th>\n",
              "      <td>0</td>\n",
              "    </tr>\n",
              "    <tr>\n",
              "      <th>Likes</th>\n",
              "      <td>0</td>\n",
              "    </tr>\n",
              "    <tr>\n",
              "      <th>Comments</th>\n",
              "      <td>0</td>\n",
              "    </tr>\n",
              "    <tr>\n",
              "      <th>Shares</th>\n",
              "      <td>0</td>\n",
              "    </tr>\n",
              "    <tr>\n",
              "      <th>Impressions</th>\n",
              "      <td>0</td>\n",
              "    </tr>\n",
              "    <tr>\n",
              "      <th>Reach</th>\n",
              "      <td>0</td>\n",
              "    </tr>\n",
              "    <tr>\n",
              "      <th>Engagement Rate</th>\n",
              "      <td>0</td>\n",
              "    </tr>\n",
              "    <tr>\n",
              "      <th>Audience Age</th>\n",
              "      <td>0</td>\n",
              "    </tr>\n",
              "    <tr>\n",
              "      <th>Audience Gender</th>\n",
              "      <td>0</td>\n",
              "    </tr>\n",
              "    <tr>\n",
              "      <th>Audience Location</th>\n",
              "      <td>0</td>\n",
              "    </tr>\n",
              "    <tr>\n",
              "      <th>Audience Interests</th>\n",
              "      <td>0</td>\n",
              "    </tr>\n",
              "    <tr>\n",
              "      <th>Sentiment</th>\n",
              "      <td>0</td>\n",
              "    </tr>\n",
              "  </tbody>\n",
              "</table>\n",
              "</div><br><label><b>dtype:</b> int64</label>"
            ],
            "text/plain": [
              "Platform              0\n",
              "Post Type             0\n",
              "Post Timestamp        0\n",
              "Likes                 0\n",
              "Comments              0\n",
              "Shares                0\n",
              "Impressions           0\n",
              "Reach                 0\n",
              "Engagement Rate       0\n",
              "Audience Age          0\n",
              "Audience Gender       0\n",
              "Audience Location     0\n",
              "Audience Interests    0\n",
              "Sentiment             0\n",
              "dtype: int64"
            ]
          },
          "execution_count": 10,
          "metadata": {},
          "output_type": "execute_result"
        }
      ],
      "source": [
        "data.isnull().sum()"
      ]
    },
    {
      "cell_type": "code",
      "execution_count": 11,
      "metadata": {
        "id": "Qc2wM-my8dwA"
      },
      "outputs": [],
      "source": [
        "# converting post timestamp to Date time format for time series forecasting\n",
        "data[\"Post Timestamp\"] = pd.to_datetime(data[\"Post Timestamp\"])\n",
        "data['Year'] = data['Post Timestamp'].dt.year                # Year\n",
        "data['Month'] = data['Post Timestamp'].dt.month              # Month (1-12)\n",
        "data['Day'] = data['Post Timestamp'].dt.day                  # Day of the month\n",
        "data['Hour'] = data['Post Timestamp'].dt.hour                # Hour (0-23)\n",
        "data['Minute'] = data['Post Timestamp'].dt.minute            # Minute (0-59)\n",
        "data['Second'] = data['Post Timestamp'].dt.second            # Second (0-59)\n",
        "data['Day of Week'] = data['Post Timestamp'].dt.dayofweek    # Day of the week (0=Monday, 6=Sunday)\n",
        "data['Is Weekend'] = data['Day of Week'].apply(lambda x: 1 if x >= 5 else 0)  # Weekend flag (1 for Sat/Sun\n",
        "data.drop(['Post Timestamp'] , axis = 1 , inplace = True)"
      ]
    },
    {
      "cell_type": "code",
      "execution_count": 12,
      "metadata": {
        "id": "WUTlOMVh8dwB"
      },
      "outputs": [],
      "source": [
        "# performing one hot encoding\n",
        "data = pd.get_dummies(data, columns=[\"Platform\", \"Post Type\", \"Audience Gender\", \"Sentiment\"], drop_first=True)"
      ]
    },
    {
      "cell_type": "code",
      "execution_count": 13,
      "metadata": {
        "colab": {
          "base_uri": "https://localhost:8080/",
          "height": 342
        },
        "id": "BvvZUi1O8dwB",
        "outputId": "4cc17807-9870-4f74-a77f-d4225e356bb2"
      },
      "outputs": [
        {
          "data": {
            "application/vnd.google.colaboratory.intrinsic+json": {
              "type": "dataframe",
              "variable_name": "data"
            },
            "text/html": [
              "\n",
              "  <div id=\"df-1e9d537c-6688-424c-97d3-2a3c5235d5e7\" class=\"colab-df-container\">\n",
              "    <div>\n",
              "<style scoped>\n",
              "    .dataframe tbody tr th:only-of-type {\n",
              "        vertical-align: middle;\n",
              "    }\n",
              "\n",
              "    .dataframe tbody tr th {\n",
              "        vertical-align: top;\n",
              "    }\n",
              "\n",
              "    .dataframe thead th {\n",
              "        text-align: right;\n",
              "    }\n",
              "</style>\n",
              "<table border=\"1\" class=\"dataframe\">\n",
              "  <thead>\n",
              "    <tr style=\"text-align: right;\">\n",
              "      <th></th>\n",
              "      <th>Likes</th>\n",
              "      <th>Comments</th>\n",
              "      <th>Shares</th>\n",
              "      <th>Impressions</th>\n",
              "      <th>Reach</th>\n",
              "      <th>Engagement Rate</th>\n",
              "      <th>Audience Age</th>\n",
              "      <th>Audience Location</th>\n",
              "      <th>Audience Interests</th>\n",
              "      <th>Year</th>\n",
              "      <th>...</th>\n",
              "      <th>Is Weekend</th>\n",
              "      <th>Platform_Instagram</th>\n",
              "      <th>Platform_LinkedIn</th>\n",
              "      <th>Platform_Twitter</th>\n",
              "      <th>Post Type_Link</th>\n",
              "      <th>Post Type_Video</th>\n",
              "      <th>Audience Gender_Male</th>\n",
              "      <th>Audience Gender_Other</th>\n",
              "      <th>Sentiment_Neutral</th>\n",
              "      <th>Sentiment_Positive</th>\n",
              "    </tr>\n",
              "  </thead>\n",
              "  <tbody>\n",
              "    <tr>\n",
              "      <th>0</th>\n",
              "      <td>415</td>\n",
              "      <td>77</td>\n",
              "      <td>85</td>\n",
              "      <td>2619</td>\n",
              "      <td>1842</td>\n",
              "      <td>0.313246</td>\n",
              "      <td>29</td>\n",
              "      <td>United Kingdom</td>\n",
              "      <td>respond</td>\n",
              "      <td>2021</td>\n",
              "      <td>...</td>\n",
              "      <td>0</td>\n",
              "      <td>False</td>\n",
              "      <td>True</td>\n",
              "      <td>False</td>\n",
              "      <td>False</td>\n",
              "      <td>True</td>\n",
              "      <td>False</td>\n",
              "      <td>True</td>\n",
              "      <td>False</td>\n",
              "      <td>False</td>\n",
              "    </tr>\n",
              "    <tr>\n",
              "      <th>1</th>\n",
              "      <td>908</td>\n",
              "      <td>125</td>\n",
              "      <td>85</td>\n",
              "      <td>1223</td>\n",
              "      <td>3884</td>\n",
              "      <td>0.287848</td>\n",
              "      <td>48</td>\n",
              "      <td>Greece</td>\n",
              "      <td>population</td>\n",
              "      <td>2023</td>\n",
              "      <td>...</td>\n",
              "      <td>1</td>\n",
              "      <td>True</td>\n",
              "      <td>False</td>\n",
              "      <td>False</td>\n",
              "      <td>False</td>\n",
              "      <td>True</td>\n",
              "      <td>True</td>\n",
              "      <td>False</td>\n",
              "      <td>True</td>\n",
              "      <td>False</td>\n",
              "    </tr>\n",
              "    <tr>\n",
              "      <th>2</th>\n",
              "      <td>412</td>\n",
              "      <td>419</td>\n",
              "      <td>58</td>\n",
              "      <td>2165</td>\n",
              "      <td>849</td>\n",
              "      <td>1.047114</td>\n",
              "      <td>55</td>\n",
              "      <td>United States Virgin Islands</td>\n",
              "      <td>himself</td>\n",
              "      <td>2021</td>\n",
              "      <td>...</td>\n",
              "      <td>1</td>\n",
              "      <td>True</td>\n",
              "      <td>False</td>\n",
              "      <td>False</td>\n",
              "      <td>False</td>\n",
              "      <td>True</td>\n",
              "      <td>True</td>\n",
              "      <td>False</td>\n",
              "      <td>True</td>\n",
              "      <td>False</td>\n",
              "    </tr>\n",
              "    <tr>\n",
              "      <th>3</th>\n",
              "      <td>667</td>\n",
              "      <td>153</td>\n",
              "      <td>29</td>\n",
              "      <td>7191</td>\n",
              "      <td>3519</td>\n",
              "      <td>0.241262</td>\n",
              "      <td>54</td>\n",
              "      <td>Zambia</td>\n",
              "      <td>safe</td>\n",
              "      <td>2021</td>\n",
              "      <td>...</td>\n",
              "      <td>0</td>\n",
              "      <td>False</td>\n",
              "      <td>False</td>\n",
              "      <td>True</td>\n",
              "      <td>False</td>\n",
              "      <td>False</td>\n",
              "      <td>False</td>\n",
              "      <td>True</td>\n",
              "      <td>False</td>\n",
              "      <td>True</td>\n",
              "    </tr>\n",
              "    <tr>\n",
              "      <th>4</th>\n",
              "      <td>659</td>\n",
              "      <td>215</td>\n",
              "      <td>34</td>\n",
              "      <td>3312</td>\n",
              "      <td>2032</td>\n",
              "      <td>0.446850</td>\n",
              "      <td>33</td>\n",
              "      <td>Afghanistan</td>\n",
              "      <td>well</td>\n",
              "      <td>2023</td>\n",
              "      <td>...</td>\n",
              "      <td>0</td>\n",
              "      <td>False</td>\n",
              "      <td>False</td>\n",
              "      <td>False</td>\n",
              "      <td>True</td>\n",
              "      <td>False</td>\n",
              "      <td>False</td>\n",
              "      <td>True</td>\n",
              "      <td>False</td>\n",
              "      <td>True</td>\n",
              "    </tr>\n",
              "  </tbody>\n",
              "</table>\n",
              "<p>5 rows × 26 columns</p>\n",
              "</div>\n",
              "    <div class=\"colab-df-buttons\">\n",
              "\n",
              "  <div class=\"colab-df-container\">\n",
              "    <button class=\"colab-df-convert\" onclick=\"convertToInteractive('df-1e9d537c-6688-424c-97d3-2a3c5235d5e7')\"\n",
              "            title=\"Convert this dataframe to an interactive table.\"\n",
              "            style=\"display:none;\">\n",
              "\n",
              "  <svg xmlns=\"http://www.w3.org/2000/svg\" height=\"24px\" viewBox=\"0 -960 960 960\">\n",
              "    <path d=\"M120-120v-720h720v720H120Zm60-500h600v-160H180v160Zm220 220h160v-160H400v160Zm0 220h160v-160H400v160ZM180-400h160v-160H180v160Zm440 0h160v-160H620v160ZM180-180h160v-160H180v160Zm440 0h160v-160H620v160Z\"/>\n",
              "  </svg>\n",
              "    </button>\n",
              "\n",
              "  <style>\n",
              "    .colab-df-container {\n",
              "      display:flex;\n",
              "      gap: 12px;\n",
              "    }\n",
              "\n",
              "    .colab-df-convert {\n",
              "      background-color: #E8F0FE;\n",
              "      border: none;\n",
              "      border-radius: 50%;\n",
              "      cursor: pointer;\n",
              "      display: none;\n",
              "      fill: #1967D2;\n",
              "      height: 32px;\n",
              "      padding: 0 0 0 0;\n",
              "      width: 32px;\n",
              "    }\n",
              "\n",
              "    .colab-df-convert:hover {\n",
              "      background-color: #E2EBFA;\n",
              "      box-shadow: 0px 1px 2px rgba(60, 64, 67, 0.3), 0px 1px 3px 1px rgba(60, 64, 67, 0.15);\n",
              "      fill: #174EA6;\n",
              "    }\n",
              "\n",
              "    .colab-df-buttons div {\n",
              "      margin-bottom: 4px;\n",
              "    }\n",
              "\n",
              "    [theme=dark] .colab-df-convert {\n",
              "      background-color: #3B4455;\n",
              "      fill: #D2E3FC;\n",
              "    }\n",
              "\n",
              "    [theme=dark] .colab-df-convert:hover {\n",
              "      background-color: #434B5C;\n",
              "      box-shadow: 0px 1px 3px 1px rgba(0, 0, 0, 0.15);\n",
              "      filter: drop-shadow(0px 1px 2px rgba(0, 0, 0, 0.3));\n",
              "      fill: #FFFFFF;\n",
              "    }\n",
              "  </style>\n",
              "\n",
              "    <script>\n",
              "      const buttonEl =\n",
              "        document.querySelector('#df-1e9d537c-6688-424c-97d3-2a3c5235d5e7 button.colab-df-convert');\n",
              "      buttonEl.style.display =\n",
              "        google.colab.kernel.accessAllowed ? 'block' : 'none';\n",
              "\n",
              "      async function convertToInteractive(key) {\n",
              "        const element = document.querySelector('#df-1e9d537c-6688-424c-97d3-2a3c5235d5e7');\n",
              "        const dataTable =\n",
              "          await google.colab.kernel.invokeFunction('convertToInteractive',\n",
              "                                                    [key], {});\n",
              "        if (!dataTable) return;\n",
              "\n",
              "        const docLinkHtml = 'Like what you see? Visit the ' +\n",
              "          '<a target=\"_blank\" href=https://colab.research.google.com/notebooks/data_table.ipynb>data table notebook</a>'\n",
              "          + ' to learn more about interactive tables.';\n",
              "        element.innerHTML = '';\n",
              "        dataTable['output_type'] = 'display_data';\n",
              "        await google.colab.output.renderOutput(dataTable, element);\n",
              "        const docLink = document.createElement('div');\n",
              "        docLink.innerHTML = docLinkHtml;\n",
              "        element.appendChild(docLink);\n",
              "      }\n",
              "    </script>\n",
              "  </div>\n",
              "\n",
              "\n",
              "<div id=\"df-cba326d1-5043-4710-ba66-837f37858ff7\">\n",
              "  <button class=\"colab-df-quickchart\" onclick=\"quickchart('df-cba326d1-5043-4710-ba66-837f37858ff7')\"\n",
              "            title=\"Suggest charts\"\n",
              "            style=\"display:none;\">\n",
              "\n",
              "<svg xmlns=\"http://www.w3.org/2000/svg\" height=\"24px\"viewBox=\"0 0 24 24\"\n",
              "     width=\"24px\">\n",
              "    <g>\n",
              "        <path d=\"M19 3H5c-1.1 0-2 .9-2 2v14c0 1.1.9 2 2 2h14c1.1 0 2-.9 2-2V5c0-1.1-.9-2-2-2zM9 17H7v-7h2v7zm4 0h-2V7h2v10zm4 0h-2v-4h2v4z\"/>\n",
              "    </g>\n",
              "</svg>\n",
              "  </button>\n",
              "\n",
              "<style>\n",
              "  .colab-df-quickchart {\n",
              "      --bg-color: #E8F0FE;\n",
              "      --fill-color: #1967D2;\n",
              "      --hover-bg-color: #E2EBFA;\n",
              "      --hover-fill-color: #174EA6;\n",
              "      --disabled-fill-color: #AAA;\n",
              "      --disabled-bg-color: #DDD;\n",
              "  }\n",
              "\n",
              "  [theme=dark] .colab-df-quickchart {\n",
              "      --bg-color: #3B4455;\n",
              "      --fill-color: #D2E3FC;\n",
              "      --hover-bg-color: #434B5C;\n",
              "      --hover-fill-color: #FFFFFF;\n",
              "      --disabled-bg-color: #3B4455;\n",
              "      --disabled-fill-color: #666;\n",
              "  }\n",
              "\n",
              "  .colab-df-quickchart {\n",
              "    background-color: var(--bg-color);\n",
              "    border: none;\n",
              "    border-radius: 50%;\n",
              "    cursor: pointer;\n",
              "    display: none;\n",
              "    fill: var(--fill-color);\n",
              "    height: 32px;\n",
              "    padding: 0;\n",
              "    width: 32px;\n",
              "  }\n",
              "\n",
              "  .colab-df-quickchart:hover {\n",
              "    background-color: var(--hover-bg-color);\n",
              "    box-shadow: 0 1px 2px rgba(60, 64, 67, 0.3), 0 1px 3px 1px rgba(60, 64, 67, 0.15);\n",
              "    fill: var(--button-hover-fill-color);\n",
              "  }\n",
              "\n",
              "  .colab-df-quickchart-complete:disabled,\n",
              "  .colab-df-quickchart-complete:disabled:hover {\n",
              "    background-color: var(--disabled-bg-color);\n",
              "    fill: var(--disabled-fill-color);\n",
              "    box-shadow: none;\n",
              "  }\n",
              "\n",
              "  .colab-df-spinner {\n",
              "    border: 2px solid var(--fill-color);\n",
              "    border-color: transparent;\n",
              "    border-bottom-color: var(--fill-color);\n",
              "    animation:\n",
              "      spin 1s steps(1) infinite;\n",
              "  }\n",
              "\n",
              "  @keyframes spin {\n",
              "    0% {\n",
              "      border-color: transparent;\n",
              "      border-bottom-color: var(--fill-color);\n",
              "      border-left-color: var(--fill-color);\n",
              "    }\n",
              "    20% {\n",
              "      border-color: transparent;\n",
              "      border-left-color: var(--fill-color);\n",
              "      border-top-color: var(--fill-color);\n",
              "    }\n",
              "    30% {\n",
              "      border-color: transparent;\n",
              "      border-left-color: var(--fill-color);\n",
              "      border-top-color: var(--fill-color);\n",
              "      border-right-color: var(--fill-color);\n",
              "    }\n",
              "    40% {\n",
              "      border-color: transparent;\n",
              "      border-right-color: var(--fill-color);\n",
              "      border-top-color: var(--fill-color);\n",
              "    }\n",
              "    60% {\n",
              "      border-color: transparent;\n",
              "      border-right-color: var(--fill-color);\n",
              "    }\n",
              "    80% {\n",
              "      border-color: transparent;\n",
              "      border-right-color: var(--fill-color);\n",
              "      border-bottom-color: var(--fill-color);\n",
              "    }\n",
              "    90% {\n",
              "      border-color: transparent;\n",
              "      border-bottom-color: var(--fill-color);\n",
              "    }\n",
              "  }\n",
              "</style>\n",
              "\n",
              "  <script>\n",
              "    async function quickchart(key) {\n",
              "      const quickchartButtonEl =\n",
              "        document.querySelector('#' + key + ' button');\n",
              "      quickchartButtonEl.disabled = true;  // To prevent multiple clicks.\n",
              "      quickchartButtonEl.classList.add('colab-df-spinner');\n",
              "      try {\n",
              "        const charts = await google.colab.kernel.invokeFunction(\n",
              "            'suggestCharts', [key], {});\n",
              "      } catch (error) {\n",
              "        console.error('Error during call to suggestCharts:', error);\n",
              "      }\n",
              "      quickchartButtonEl.classList.remove('colab-df-spinner');\n",
              "      quickchartButtonEl.classList.add('colab-df-quickchart-complete');\n",
              "    }\n",
              "    (() => {\n",
              "      let quickchartButtonEl =\n",
              "        document.querySelector('#df-cba326d1-5043-4710-ba66-837f37858ff7 button');\n",
              "      quickchartButtonEl.style.display =\n",
              "        google.colab.kernel.accessAllowed ? 'block' : 'none';\n",
              "    })();\n",
              "  </script>\n",
              "</div>\n",
              "\n",
              "    </div>\n",
              "  </div>\n"
            ],
            "text/plain": [
              "   Likes  Comments  Shares  Impressions  Reach  Engagement Rate  Audience Age  \\\n",
              "0    415        77      85         2619   1842         0.313246            29   \n",
              "1    908       125      85         1223   3884         0.287848            48   \n",
              "2    412       419      58         2165    849         1.047114            55   \n",
              "3    667       153      29         7191   3519         0.241262            54   \n",
              "4    659       215      34         3312   2032         0.446850            33   \n",
              "\n",
              "              Audience Location Audience Interests  Year  ...  Is Weekend  \\\n",
              "0                United Kingdom            respond  2021  ...           0   \n",
              "1                        Greece         population  2023  ...           1   \n",
              "2  United States Virgin Islands            himself  2021  ...           1   \n",
              "3                        Zambia               safe  2021  ...           0   \n",
              "4                   Afghanistan               well  2023  ...           0   \n",
              "\n",
              "   Platform_Instagram  Platform_LinkedIn  Platform_Twitter  Post Type_Link  \\\n",
              "0               False               True             False           False   \n",
              "1                True              False             False           False   \n",
              "2                True              False             False           False   \n",
              "3               False              False              True           False   \n",
              "4               False              False             False            True   \n",
              "\n",
              "   Post Type_Video  Audience Gender_Male  Audience Gender_Other  \\\n",
              "0             True                 False                   True   \n",
              "1             True                  True                  False   \n",
              "2             True                  True                  False   \n",
              "3            False                 False                   True   \n",
              "4            False                 False                   True   \n",
              "\n",
              "   Sentiment_Neutral  Sentiment_Positive  \n",
              "0              False               False  \n",
              "1               True               False  \n",
              "2               True               False  \n",
              "3              False                True  \n",
              "4              False                True  \n",
              "\n",
              "[5 rows x 26 columns]"
            ]
          },
          "execution_count": 13,
          "metadata": {},
          "output_type": "execute_result"
        }
      ],
      "source": [
        "data.head()"
      ]
    },
    {
      "cell_type": "code",
      "execution_count": 14,
      "metadata": {
        "id": "oNWtzmhAtaj1"
      },
      "outputs": [],
      "source": [
        "import numpy as np\n",
        "data['Month_sin'] = np.sin(2 * np.pi * data['Month'] / 12)\n",
        "data['Month_cos'] = np.cos(2 * np.pi * data['Month'] / 12)\n",
        "data['Hour_sin'] = np.sin(2 * np.pi * data['Hour'] / 24)\n",
        "data['Hour_cos'] = np.cos(2 * np.pi * data['Hour'] / 24)\n",
        "\n",
        "data2 = data\n",
        "\n",
        "data.drop(['Month', 'Hour'], axis=1, inplace=True)\n"
      ]
    },
    {
      "cell_type": "code",
      "execution_count": 15,
      "metadata": {
        "id": "3QSSwHiErpWa"
      },
      "outputs": [],
      "source": [
        "data.drop(['Year'] , axis = 1, inplace = True)"
      ]
    },
    {
      "cell_type": "code",
      "execution_count": 16,
      "metadata": {
        "id": "p9Y6QzKA8dwB"
      },
      "outputs": [],
      "source": [
        "from sklearn.preprocessing import LabelEncoder\n",
        "\n",
        "# Label encode 'Audience Location'\n",
        "label_encoder = LabelEncoder()\n",
        "data['Audience Location'] = label_encoder.fit_transform(data['Audience Location'])\n",
        "\n"
      ]
    },
    {
      "cell_type": "code",
      "execution_count": 17,
      "metadata": {
        "id": "uCDfsse28dwC"
      },
      "outputs": [],
      "source": [
        "# Convert all values in 'Audience Interests' to strings\n",
        "data['Audience Interests'] = data['Audience Interests'].astype(str)\n",
        "data['Audience Interests Encoded'] = LabelEncoder().fit_transform(data['Audience Interests'])"
      ]
    },
    {
      "cell_type": "code",
      "execution_count": 18,
      "metadata": {
        "colab": {
          "base_uri": "https://localhost:8080/"
        },
        "id": "2NHDYyme8dwC",
        "outputId": "1dad1fa8-0b1f-49d2-a6d3-87280b0b7bbd"
      },
      "outputs": [
        {
          "name": "stdout",
          "output_type": "stream",
          "text": [
            "Correlation: 0.0010479633116488706\n"
          ]
        }
      ],
      "source": [
        "correlation = data[['Audience Interests Encoded', 'Engagement Rate']].corr().iloc[0, 1]\n",
        "print(\"Correlation:\", correlation)"
      ]
    },
    {
      "cell_type": "code",
      "execution_count": 19,
      "metadata": {
        "colab": {
          "base_uri": "https://localhost:8080/"
        },
        "id": "Tra_h2FE8dwC",
        "outputId": "3dfd9adf-dbc9-4ff6-d721-169ae46a0f02"
      },
      "outputs": [
        {
          "name": "stdout",
          "output_type": "stream",
          "text": [
            "Correlation: 0.002011002633234603\n"
          ]
        }
      ],
      "source": [
        "correlation = data[['Audience Location', 'Engagement Rate']].corr().iloc[0, 1]\n",
        "print(\"Correlation:\", correlation)"
      ]
    },
    {
      "cell_type": "code",
      "execution_count": 20,
      "metadata": {
        "id": "658c6m-38dwC"
      },
      "outputs": [],
      "source": [
        "#since correlation b/w audience interests and audience location with  engagement rate very low , dropping the columns\n",
        "data.drop(['Audience Location' , 'Audience Interests' , 'Audience Interests Encoded'], axis = 1 , inplace=True)"
      ]
    },
    {
      "cell_type": "code",
      "execution_count": 21,
      "metadata": {
        "colab": {
          "base_uri": "https://localhost:8080/"
        },
        "id": "1y88dgbq8dwD",
        "outputId": "931d1509-d08c-4bd7-f65f-2f2cdcdbb70b"
      },
      "outputs": [
        {
          "name": "stdout",
          "output_type": "stream",
          "text": [
            "Updated dataset with boolean features converted to 0/1:\n",
            "   Likes  Comments  Shares  Impressions  Reach  Engagement Rate  Audience Age  \\\n",
            "0    415        77      85         2619   1842         0.313246            29   \n",
            "1    908       125      85         1223   3884         0.287848            48   \n",
            "2    412       419      58         2165    849         1.047114            55   \n",
            "3    667       153      29         7191   3519         0.241262            54   \n",
            "4    659       215      34         3312   2032         0.446850            33   \n",
            "\n",
            "   Day  Minute  Second  ...  Post Type_Link  Post Type_Video  \\\n",
            "0   23      19      49  ...               0                1   \n",
            "1   30      40       6  ...               0                1   \n",
            "2    5      56      53  ...               0                1   \n",
            "3   28      39       0  ...               0                0   \n",
            "4   27      51      21  ...               1                0   \n",
            "\n",
            "   Audience Gender_Male  Audience Gender_Other  Sentiment_Neutral  \\\n",
            "0                     0                      1                  0   \n",
            "1                     1                      0                  1   \n",
            "2                     1                      0                  1   \n",
            "3                     0                      1                  0   \n",
            "4                     0                      1                  0   \n",
            "\n",
            "   Sentiment_Positive     Month_sin     Month_cos  Hour_sin      Hour_cos  \n",
            "0                   0  8.660254e-01 -5.000000e-01  0.866025 -5.000000e-01  \n",
            "1                   0 -5.000000e-01 -8.660254e-01  1.000000  6.123234e-17  \n",
            "2                   0 -2.449294e-16  1.000000e+00  0.707107  7.071068e-01  \n",
            "3                   1 -1.000000e+00 -1.836970e-16 -0.866025  5.000000e-01  \n",
            "4                   1  8.660254e-01  5.000000e-01 -0.965926 -2.588190e-01  \n",
            "\n",
            "[5 rows x 25 columns]\n"
          ]
        }
      ],
      "source": [
        "# since the model cant use true false values , converting them into 0 and 1\n",
        "boolean_columns = data.select_dtypes(include=['bool']).columns\n",
        "\n",
        "# Convert True/False to 1/0\n",
        "data[boolean_columns] = data[boolean_columns].astype(int)\n",
        "\n",
        "print(\"Updated dataset with boolean features converted to 0/1:\")\n",
        "print(data.head(2))\n"
      ]
    },
    {
      "cell_type": "code",
      "execution_count": 78,
      "metadata": {
        "colab": {
          "base_uri": "https://localhost:8080/"
        },
        "id": "sGZbPJXTkJZy",
        "outputId": "8c0eb446-dd67-42ab-ee46-8d8d0bfb0d51"
      },
      "outputs": [
        {
          "name": "stdout",
          "output_type": "stream",
          "text": [
            "Index(['Likes', 'Comments', 'Shares', 'Impressions', 'Reach',\n",
            "       'Engagement Rate', 'Audience Age', 'Day', 'Minute', 'Second',\n",
            "       'Day of Week', 'Is Weekend', 'Platform_Instagram', 'Platform_LinkedIn',\n",
            "       'Platform_Twitter', 'Post Type_Link', 'Post Type_Video',\n",
            "       'Audience Gender_Male', 'Audience Gender_Other', 'Sentiment_Neutral',\n",
            "       'Sentiment_Positive', 'Month_sin', 'Month_cos', 'Hour_sin', 'Hour_cos'],\n",
            "      dtype='object')\n"
          ]
        }
      ],
      "source": [
        "print(data.columns)"
      ]
    },
    {
      "cell_type": "code",
      "execution_count": null,
      "metadata": {
        "id": "EDng6xWomOc7"
      },
      "outputs": [],
      "source": []
    },
    {
      "cell_type": "code",
      "execution_count": null,
      "metadata": {
        "id": "L4GEnJso-M94"
      },
      "outputs": [],
      "source": [
        "data.drop(['Likes' , 'Comments' , 'Shares' , 'Impressions' , 'Reach' , ])"
      ]
    },
    {
      "cell_type": "code",
      "execution_count": 29,
      "metadata": {
        "colab": {
          "base_uri": "https://localhost:8080/"
        },
        "id": "CI1YWzLA92oS",
        "outputId": "c36d8e25-2452-4f9d-e410-540a6c07901f"
      },
      "outputs": [
        {
          "data": {
            "text/plain": [
              "Index(['Likes', 'Comments', 'Shares', 'Impressions', 'Reach',\n",
              "       'Engagement Rate', 'Audience Age', 'Day', 'Minute', 'Second',\n",
              "       'Day of Week', 'Is Weekend', 'Platform_Instagram', 'Platform_LinkedIn',\n",
              "       'Platform_Twitter', 'Post Type_Link', 'Post Type_Video',\n",
              "       'Audience Gender_Male', 'Audience Gender_Other', 'Sentiment_Neutral',\n",
              "       'Sentiment_Positive', 'Month_sin', 'Month_cos', 'Hour_sin', 'Hour_cos'],\n",
              "      dtype='object')"
            ]
          },
          "execution_count": 29,
          "metadata": {},
          "output_type": "execute_result"
        }
      ],
      "source": [
        "data.columns"
      ]
    },
    {
      "cell_type": "code",
      "execution_count": 22,
      "metadata": {
        "id": "D4ooKG618dwD"
      },
      "outputs": [],
      "source": [
        "from sklearn.preprocessing import MinMaxScaler\n",
        "\n",
        "scaler = MinMaxScaler()\n",
        "data[numeric_cols] = scaler.fit_transform(data[numeric_cols])\n"
      ]
    },
    {
      "cell_type": "code",
      "execution_count": 23,
      "metadata": {
        "id": "BPNy-FNB8dwD"
      },
      "outputs": [],
      "source": [
        "target = \"Engagement Rate\"\n",
        "features = [col for col in data.columns if col != target]\n",
        "\n",
        "X = data[features]\n",
        "y = data[target]\n"
      ]
    },
    {
      "cell_type": "code",
      "execution_count": 24,
      "metadata": {
        "id": "ALzGIAgp8dwE"
      },
      "outputs": [],
      "source": [
        "from sklearn.model_selection import train_test_split\n",
        "X_train, X_test, y_train, y_test = train_test_split(X, y, test_size=0.2, random_state=42)\n"
      ]
    },
    {
      "cell_type": "code",
      "execution_count": 25,
      "metadata": {
        "id": "lQaJ2Moa8dwE"
      },
      "outputs": [],
      "source": [
        "from sklearn.preprocessing import StandardScaler\n",
        "\n",
        "scaler = StandardScaler()\n",
        "X_train_scaled = scaler.fit_transform(X_train)\n",
        "X_test_scaled = scaler.transform(X_test)\n"
      ]
    },
    {
      "cell_type": "code",
      "execution_count": 26,
      "metadata": {
        "colab": {
          "base_uri": "https://localhost:8080/"
        },
        "id": "l0M4J4Ks8dwE",
        "outputId": "35d54d35-7398-4f05-87e8-cf8108f62661"
      },
      "outputs": [
        {
          "name": "stdout",
          "output_type": "stream",
          "text": [
            "X_train_lstm shape: (79990, 10, 24)\n",
            "y_train_lstm shape: (79990,)\n",
            "X_test_lstm shape: (19990, 10, 24)\n",
            "y_test_lstm shape: (19990,)\n"
          ]
        }
      ],
      "source": [
        "import numpy as np\n",
        "\n",
        "# Number of timesteps to look back\n",
        "time_steps = 10\n",
        "\n",
        "\n",
        "X_train_lstm, y_train_lstm = [], []\n",
        "for i in range(time_steps, len(X_train_scaled)):\n",
        "    X_train_lstm.append(X_train_scaled[i-time_steps:i])\n",
        "    y_train_lstm.append(y_train.iloc[i])  # Current target value\n",
        "\n",
        "X_train_lstm, y_train_lstm = np.array(X_train_lstm), np.array(y_train_lstm)\n",
        "\n",
        "X_test_lstm, y_test_lstm = [], []\n",
        "for i in range(time_steps, len(X_test_scaled)):\n",
        "    X_test_lstm.append(X_test_scaled[i-time_steps:i])\n",
        "    y_test_lstm.append(y_test.iloc[i])\n",
        "\n",
        "X_test_lstm, y_test_lstm = np.array(X_test_lstm), np.array(y_test_lstm)\n",
        "\n",
        "# Check the shapes\n",
        "print(\"X_train_lstm shape:\", X_train_lstm.shape)  # (samples, timesteps, features)\n",
        "print(\"y_train_lstm shape:\", y_train_lstm.shape)\n",
        "print(\"X_test_lstm shape:\", X_test_lstm.shape)\n",
        "print(\"y_test_lstm shape:\", y_test_lstm.shape)\n"
      ]
    },
    {
      "cell_type": "code",
      "execution_count": 27,
      "metadata": {
        "colab": {
          "base_uri": "https://localhost:8080/",
          "height": 376
        },
        "id": "NUAK4DUe8dwG",
        "outputId": "dfb316f7-d791-4e6c-b38a-05c5190b14be"
      },
      "outputs": [
        {
          "name": "stderr",
          "output_type": "stream",
          "text": [
            "/usr/local/lib/python3.11/dist-packages/keras/src/layers/rnn/rnn.py:204: UserWarning: Do not pass an `input_shape`/`input_dim` argument to a layer. When using Sequential models, prefer using an `Input(shape)` object as the first layer in the model instead.\n",
            "  super().__init__(**kwargs)\n"
          ]
        },
        {
          "data": {
            "text/html": [
              "<pre style=\"white-space:pre;overflow-x:auto;line-height:normal;font-family:Menlo,'DejaVu Sans Mono',consolas,'Courier New',monospace\"><span style=\"font-weight: bold\">Model: \"sequential\"</span>\n",
              "</pre>\n"
            ],
            "text/plain": [
              "\u001b[1mModel: \"sequential\"\u001b[0m\n"
            ]
          },
          "metadata": {},
          "output_type": "display_data"
        },
        {
          "data": {
            "text/html": [
              "<pre style=\"white-space:pre;overflow-x:auto;line-height:normal;font-family:Menlo,'DejaVu Sans Mono',consolas,'Courier New',monospace\">┏━━━━━━━━━━━━━━━━━━━━━━━━━━━━━━━━━━━━━━┳━━━━━━━━━━━━━━━━━━━━━━━━━━━━━┳━━━━━━━━━━━━━━━━━┓\n",
              "┃<span style=\"font-weight: bold\"> Layer (type)                         </span>┃<span style=\"font-weight: bold\"> Output Shape                </span>┃<span style=\"font-weight: bold\">         Param # </span>┃\n",
              "┡━━━━━━━━━━━━━━━━━━━━━━━━━━━━━━━━━━━━━━╇━━━━━━━━━━━━━━━━━━━━━━━━━━━━━╇━━━━━━━━━━━━━━━━━┩\n",
              "│ lstm (<span style=\"color: #0087ff; text-decoration-color: #0087ff\">LSTM</span>)                          │ (<span style=\"color: #00d7ff; text-decoration-color: #00d7ff\">None</span>, <span style=\"color: #00af00; text-decoration-color: #00af00\">10</span>, <span style=\"color: #00af00; text-decoration-color: #00af00\">64</span>)              │          <span style=\"color: #00af00; text-decoration-color: #00af00\">22,784</span> │\n",
              "├──────────────────────────────────────┼─────────────────────────────┼─────────────────┤\n",
              "│ dropout (<span style=\"color: #0087ff; text-decoration-color: #0087ff\">Dropout</span>)                    │ (<span style=\"color: #00d7ff; text-decoration-color: #00d7ff\">None</span>, <span style=\"color: #00af00; text-decoration-color: #00af00\">10</span>, <span style=\"color: #00af00; text-decoration-color: #00af00\">64</span>)              │               <span style=\"color: #00af00; text-decoration-color: #00af00\">0</span> │\n",
              "├──────────────────────────────────────┼─────────────────────────────┼─────────────────┤\n",
              "│ lstm_1 (<span style=\"color: #0087ff; text-decoration-color: #0087ff\">LSTM</span>)                        │ (<span style=\"color: #00d7ff; text-decoration-color: #00d7ff\">None</span>, <span style=\"color: #00af00; text-decoration-color: #00af00\">64</span>)                  │          <span style=\"color: #00af00; text-decoration-color: #00af00\">33,024</span> │\n",
              "├──────────────────────────────────────┼─────────────────────────────┼─────────────────┤\n",
              "│ dropout_1 (<span style=\"color: #0087ff; text-decoration-color: #0087ff\">Dropout</span>)                  │ (<span style=\"color: #00d7ff; text-decoration-color: #00d7ff\">None</span>, <span style=\"color: #00af00; text-decoration-color: #00af00\">64</span>)                  │               <span style=\"color: #00af00; text-decoration-color: #00af00\">0</span> │\n",
              "├──────────────────────────────────────┼─────────────────────────────┼─────────────────┤\n",
              "│ dense (<span style=\"color: #0087ff; text-decoration-color: #0087ff\">Dense</span>)                        │ (<span style=\"color: #00d7ff; text-decoration-color: #00d7ff\">None</span>, <span style=\"color: #00af00; text-decoration-color: #00af00\">32</span>)                  │           <span style=\"color: #00af00; text-decoration-color: #00af00\">2,080</span> │\n",
              "├──────────────────────────────────────┼─────────────────────────────┼─────────────────┤\n",
              "│ dense_1 (<span style=\"color: #0087ff; text-decoration-color: #0087ff\">Dense</span>)                      │ (<span style=\"color: #00d7ff; text-decoration-color: #00d7ff\">None</span>, <span style=\"color: #00af00; text-decoration-color: #00af00\">1</span>)                   │              <span style=\"color: #00af00; text-decoration-color: #00af00\">33</span> │\n",
              "└──────────────────────────────────────┴─────────────────────────────┴─────────────────┘\n",
              "</pre>\n"
            ],
            "text/plain": [
              "┏━━━━━━━━━━━━━━━━━━━━━━━━━━━━━━━━━━━━━━┳━━━━━━━━━━━━━━━━━━━━━━━━━━━━━┳━━━━━━━━━━━━━━━━━┓\n",
              "┃\u001b[1m \u001b[0m\u001b[1mLayer (type)                        \u001b[0m\u001b[1m \u001b[0m┃\u001b[1m \u001b[0m\u001b[1mOutput Shape               \u001b[0m\u001b[1m \u001b[0m┃\u001b[1m \u001b[0m\u001b[1m        Param #\u001b[0m\u001b[1m \u001b[0m┃\n",
              "┡━━━━━━━━━━━━━━━━━━━━━━━━━━━━━━━━━━━━━━╇━━━━━━━━━━━━━━━━━━━━━━━━━━━━━╇━━━━━━━━━━━━━━━━━┩\n",
              "│ lstm (\u001b[38;5;33mLSTM\u001b[0m)                          │ (\u001b[38;5;45mNone\u001b[0m, \u001b[38;5;34m10\u001b[0m, \u001b[38;5;34m64\u001b[0m)              │          \u001b[38;5;34m22,784\u001b[0m │\n",
              "├──────────────────────────────────────┼─────────────────────────────┼─────────────────┤\n",
              "│ dropout (\u001b[38;5;33mDropout\u001b[0m)                    │ (\u001b[38;5;45mNone\u001b[0m, \u001b[38;5;34m10\u001b[0m, \u001b[38;5;34m64\u001b[0m)              │               \u001b[38;5;34m0\u001b[0m │\n",
              "├──────────────────────────────────────┼─────────────────────────────┼─────────────────┤\n",
              "│ lstm_1 (\u001b[38;5;33mLSTM\u001b[0m)                        │ (\u001b[38;5;45mNone\u001b[0m, \u001b[38;5;34m64\u001b[0m)                  │          \u001b[38;5;34m33,024\u001b[0m │\n",
              "├──────────────────────────────────────┼─────────────────────────────┼─────────────────┤\n",
              "│ dropout_1 (\u001b[38;5;33mDropout\u001b[0m)                  │ (\u001b[38;5;45mNone\u001b[0m, \u001b[38;5;34m64\u001b[0m)                  │               \u001b[38;5;34m0\u001b[0m │\n",
              "├──────────────────────────────────────┼─────────────────────────────┼─────────────────┤\n",
              "│ dense (\u001b[38;5;33mDense\u001b[0m)                        │ (\u001b[38;5;45mNone\u001b[0m, \u001b[38;5;34m32\u001b[0m)                  │           \u001b[38;5;34m2,080\u001b[0m │\n",
              "├──────────────────────────────────────┼─────────────────────────────┼─────────────────┤\n",
              "│ dense_1 (\u001b[38;5;33mDense\u001b[0m)                      │ (\u001b[38;5;45mNone\u001b[0m, \u001b[38;5;34m1\u001b[0m)                   │              \u001b[38;5;34m33\u001b[0m │\n",
              "└──────────────────────────────────────┴─────────────────────────────┴─────────────────┘\n"
            ]
          },
          "metadata": {},
          "output_type": "display_data"
        },
        {
          "data": {
            "text/html": [
              "<pre style=\"white-space:pre;overflow-x:auto;line-height:normal;font-family:Menlo,'DejaVu Sans Mono',consolas,'Courier New',monospace\"><span style=\"font-weight: bold\"> Total params: </span><span style=\"color: #00af00; text-decoration-color: #00af00\">57,921</span> (226.25 KB)\n",
              "</pre>\n"
            ],
            "text/plain": [
              "\u001b[1m Total params: \u001b[0m\u001b[38;5;34m57,921\u001b[0m (226.25 KB)\n"
            ]
          },
          "metadata": {},
          "output_type": "display_data"
        },
        {
          "data": {
            "text/html": [
              "<pre style=\"white-space:pre;overflow-x:auto;line-height:normal;font-family:Menlo,'DejaVu Sans Mono',consolas,'Courier New',monospace\"><span style=\"font-weight: bold\"> Trainable params: </span><span style=\"color: #00af00; text-decoration-color: #00af00\">57,921</span> (226.25 KB)\n",
              "</pre>\n"
            ],
            "text/plain": [
              "\u001b[1m Trainable params: \u001b[0m\u001b[38;5;34m57,921\u001b[0m (226.25 KB)\n"
            ]
          },
          "metadata": {},
          "output_type": "display_data"
        },
        {
          "data": {
            "text/html": [
              "<pre style=\"white-space:pre;overflow-x:auto;line-height:normal;font-family:Menlo,'DejaVu Sans Mono',consolas,'Courier New',monospace\"><span style=\"font-weight: bold\"> Non-trainable params: </span><span style=\"color: #00af00; text-decoration-color: #00af00\">0</span> (0.00 B)\n",
              "</pre>\n"
            ],
            "text/plain": [
              "\u001b[1m Non-trainable params: \u001b[0m\u001b[38;5;34m0\u001b[0m (0.00 B)\n"
            ]
          },
          "metadata": {},
          "output_type": "display_data"
        }
      ],
      "source": [
        "from tensorflow.keras.models import Sequential\n",
        "from tensorflow.keras.layers import LSTM, Dense, Dropout\n",
        "\n",
        "# Define the LSTM model\n",
        "model = Sequential([\n",
        "    LSTM(64, activation='relu', return_sequences=True, input_shape=(X_train_lstm.shape[1], X_train_lstm.shape[2])),\n",
        "    Dropout(0.3),\n",
        "    LSTM(64, activation='relu', return_sequences=False),\n",
        "    Dropout(0.3),\n",
        "    Dense(32, activation='relu'),\n",
        "    Dense(1)  # Output layer for regression\n",
        "])\n",
        "\n",
        "# Compile the model\n",
        "model.compile(optimizer='adam', loss='mse', metrics=['mae'])\n",
        "model.summary()\n"
      ]
    },
    {
      "cell_type": "code",
      "execution_count": 30,
      "metadata": {
        "colab": {
          "base_uri": "https://localhost:8080/"
        },
        "id": "fLsaxMKq8dwG",
        "outputId": "95cd79d7-6586-4b6e-dbd2-fc250beefff2"
      },
      "outputs": [
        {
          "name": "stdout",
          "output_type": "stream",
          "text": [
            "Epoch 1/50\n",
            "\u001b[1m2000/2000\u001b[0m \u001b[32m━━━━━━━━━━━━━━━━━━━━\u001b[0m\u001b[37m\u001b[0m \u001b[1m37s\u001b[0m 18ms/step - loss: 0.0147 - mae: 0.0840 - val_loss: 0.0144 - val_mae: 0.0819\n",
            "Epoch 2/50\n",
            "\u001b[1m2000/2000\u001b[0m \u001b[32m━━━━━━━━━━━━━━━━━━━━\u001b[0m\u001b[37m\u001b[0m \u001b[1m33s\u001b[0m 14ms/step - loss: 0.0144 - mae: 0.0838 - val_loss: 0.0144 - val_mae: 0.0823\n",
            "Epoch 3/50\n",
            "\u001b[1m2000/2000\u001b[0m \u001b[32m━━━━━━━━━━━━━━━━━━━━\u001b[0m\u001b[37m\u001b[0m \u001b[1m41s\u001b[0m 14ms/step - loss: 0.0146 - mae: 0.0843 - val_loss: 0.0144 - val_mae: 0.0859\n",
            "Epoch 4/50\n",
            "\u001b[1m2000/2000\u001b[0m \u001b[32m━━━━━━━━━━━━━━━━━━━━\u001b[0m\u001b[37m\u001b[0m \u001b[1m41s\u001b[0m 14ms/step - loss: 0.0147 - mae: 0.0844 - val_loss: 0.0144 - val_mae: 0.0813\n",
            "Epoch 5/50\n",
            "\u001b[1m2000/2000\u001b[0m \u001b[32m━━━━━━━━━━━━━━━━━━━━\u001b[0m\u001b[37m\u001b[0m \u001b[1m41s\u001b[0m 14ms/step - loss: 0.0145 - mae: 0.0843 - val_loss: 0.0144 - val_mae: 0.0853\n",
            "Epoch 6/50\n",
            "\u001b[1m2000/2000\u001b[0m \u001b[32m━━━━━━━━━━━━━━━━━━━━\u001b[0m\u001b[37m\u001b[0m \u001b[1m41s\u001b[0m 14ms/step - loss: 0.0147 - mae: 0.0848 - val_loss: 0.0144 - val_mae: 0.0839\n",
            "Epoch 7/50\n",
            "\u001b[1m2000/2000\u001b[0m \u001b[32m━━━━━━━━━━━━━━━━━━━━\u001b[0m\u001b[37m\u001b[0m \u001b[1m41s\u001b[0m 14ms/step - loss: 0.0143 - mae: 0.0838 - val_loss: 0.0144 - val_mae: 0.0835\n",
            "Epoch 8/50\n",
            "\u001b[1m2000/2000\u001b[0m \u001b[32m━━━━━━━━━━━━━━━━━━━━\u001b[0m\u001b[37m\u001b[0m \u001b[1m29s\u001b[0m 15ms/step - loss: 0.0146 - mae: 0.0841 - val_loss: 0.0144 - val_mae: 0.0848\n",
            "Epoch 9/50\n",
            "\u001b[1m2000/2000\u001b[0m \u001b[32m━━━━━━━━━━━━━━━━━━━━\u001b[0m\u001b[37m\u001b[0m \u001b[1m29s\u001b[0m 15ms/step - loss: 0.0148 - mae: 0.0847 - val_loss: 0.0144 - val_mae: 0.0823\n",
            "Epoch 10/50\n",
            "\u001b[1m2000/2000\u001b[0m \u001b[32m━━━━━━━━━━━━━━━━━━━━\u001b[0m\u001b[37m\u001b[0m \u001b[1m42s\u001b[0m 15ms/step - loss: 0.0147 - mae: 0.0844 - val_loss: 0.0144 - val_mae: 0.0837\n",
            "Epoch 11/50\n",
            "\u001b[1m2000/2000\u001b[0m \u001b[32m━━━━━━━━━━━━━━━━━━━━\u001b[0m\u001b[37m\u001b[0m \u001b[1m29s\u001b[0m 15ms/step - loss: 0.0146 - mae: 0.0845 - val_loss: 0.0144 - val_mae: 0.0859\n",
            "Epoch 12/50\n",
            "\u001b[1m2000/2000\u001b[0m \u001b[32m━━━━━━━━━━━━━━━━━━━━\u001b[0m\u001b[37m\u001b[0m \u001b[1m30s\u001b[0m 15ms/step - loss: 0.0146 - mae: 0.0844 - val_loss: 0.0144 - val_mae: 0.0853\n",
            "Epoch 13/50\n",
            "\u001b[1m2000/2000\u001b[0m \u001b[32m━━━━━━━━━━━━━━━━━━━━\u001b[0m\u001b[37m\u001b[0m \u001b[1m41s\u001b[0m 15ms/step - loss: 0.0145 - mae: 0.0846 - val_loss: 0.0147 - val_mae: 0.0882\n",
            "Epoch 14/50\n",
            "\u001b[1m2000/2000\u001b[0m \u001b[32m━━━━━━━━━━━━━━━━━━━━\u001b[0m\u001b[37m\u001b[0m \u001b[1m29s\u001b[0m 15ms/step - loss: 0.0144 - mae: 0.0839 - val_loss: 0.0145 - val_mae: 0.0867\n",
            "Epoch 15/50\n",
            "\u001b[1m2000/2000\u001b[0m \u001b[32m━━━━━━━━━━━━━━━━━━━━\u001b[0m\u001b[37m\u001b[0m \u001b[1m42s\u001b[0m 15ms/step - loss: 0.0146 - mae: 0.0845 - val_loss: 0.0144 - val_mae: 0.0819\n",
            "Epoch 16/50\n",
            "\u001b[1m2000/2000\u001b[0m \u001b[32m━━━━━━━━━━━━━━━━━━━━\u001b[0m\u001b[37m\u001b[0m \u001b[1m41s\u001b[0m 15ms/step - loss: 0.0142 - mae: 0.0831 - val_loss: 0.0144 - val_mae: 0.0837\n",
            "Epoch 17/50\n",
            "\u001b[1m2000/2000\u001b[0m \u001b[32m━━━━━━━━━━━━━━━━━━━━\u001b[0m\u001b[37m\u001b[0m \u001b[1m41s\u001b[0m 15ms/step - loss: 0.0140 - mae: 0.0827 - val_loss: 0.0145 - val_mae: 0.0819\n",
            "Epoch 18/50\n",
            "\u001b[1m2000/2000\u001b[0m \u001b[32m━━━━━━━━━━━━━━━━━━━━\u001b[0m\u001b[37m\u001b[0m \u001b[1m41s\u001b[0m 15ms/step - loss: 0.0138 - mae: 0.0817 - val_loss: 0.0145 - val_mae: 0.0834\n",
            "Epoch 19/50\n",
            "\u001b[1m2000/2000\u001b[0m \u001b[32m━━━━━━━━━━━━━━━━━━━━\u001b[0m\u001b[37m\u001b[0m \u001b[1m40s\u001b[0m 15ms/step - loss: 0.0141 - mae: 0.0834 - val_loss: 0.0147 - val_mae: 0.0867\n",
            "Epoch 20/50\n",
            "\u001b[1m2000/2000\u001b[0m \u001b[32m━━━━━━━━━━━━━━━━━━━━\u001b[0m\u001b[37m\u001b[0m \u001b[1m41s\u001b[0m 15ms/step - loss: 0.0135 - mae: 0.0812 - val_loss: 0.0148 - val_mae: 0.0863\n",
            "Epoch 21/50\n",
            "\u001b[1m2000/2000\u001b[0m \u001b[32m━━━━━━━━━━━━━━━━━━━━\u001b[0m\u001b[37m\u001b[0m \u001b[1m29s\u001b[0m 14ms/step - loss: 0.0136 - mae: 0.0816 - val_loss: 0.0149 - val_mae: 0.0864\n",
            "Epoch 22/50\n",
            "\u001b[1m2000/2000\u001b[0m \u001b[32m━━━━━━━━━━━━━━━━━━━━\u001b[0m\u001b[37m\u001b[0m \u001b[1m29s\u001b[0m 14ms/step - loss: 0.0136 - mae: 0.0819 - val_loss: 0.0151 - val_mae: 0.0863\n",
            "Epoch 23/50\n",
            "\u001b[1m2000/2000\u001b[0m \u001b[32m━━━━━━━━━━━━━━━━━━━━\u001b[0m\u001b[37m\u001b[0m \u001b[1m41s\u001b[0m 15ms/step - loss: 0.0134 - mae: 0.0808 - val_loss: 0.0149 - val_mae: 0.0814\n",
            "Epoch 24/50\n",
            "\u001b[1m2000/2000\u001b[0m \u001b[32m━━━━━━━━━━━━━━━━━━━━\u001b[0m\u001b[37m\u001b[0m \u001b[1m41s\u001b[0m 15ms/step - loss: 0.0133 - mae: 0.0806 - val_loss: 0.0156 - val_mae: 0.0870\n",
            "Epoch 25/50\n",
            "\u001b[1m2000/2000\u001b[0m \u001b[32m━━━━━━━━━━━━━━━━━━━━\u001b[0m\u001b[37m\u001b[0m \u001b[1m30s\u001b[0m 15ms/step - loss: 0.0133 - mae: 0.0806 - val_loss: 0.0156 - val_mae: 0.0900\n",
            "Epoch 26/50\n",
            "\u001b[1m2000/2000\u001b[0m \u001b[32m━━━━━━━━━━━━━━━━━━━━\u001b[0m\u001b[37m\u001b[0m \u001b[1m34s\u001b[0m 17ms/step - loss: 0.0131 - mae: 0.0800 - val_loss: 0.0152 - val_mae: 0.0853\n",
            "Epoch 27/50\n",
            "\u001b[1m2000/2000\u001b[0m \u001b[32m━━━━━━━━━━━━━━━━━━━━\u001b[0m\u001b[37m\u001b[0m \u001b[1m37s\u001b[0m 15ms/step - loss: 0.0125 - mae: 0.0784 - val_loss: 0.0153 - val_mae: 0.0876\n",
            "Epoch 28/50\n",
            "\u001b[1m2000/2000\u001b[0m \u001b[32m━━━━━━━━━━━━━━━━━━━━\u001b[0m\u001b[37m\u001b[0m \u001b[1m41s\u001b[0m 15ms/step - loss: 0.0125 - mae: 0.0789 - val_loss: 0.0156 - val_mae: 0.0872\n",
            "Epoch 29/50\n",
            "\u001b[1m2000/2000\u001b[0m \u001b[32m━━━━━━━━━━━━━━━━━━━━\u001b[0m\u001b[37m\u001b[0m \u001b[1m29s\u001b[0m 15ms/step - loss: 0.0122 - mae: 0.0776 - val_loss: 0.0156 - val_mae: 0.0900\n",
            "Epoch 30/50\n",
            "\u001b[1m2000/2000\u001b[0m \u001b[32m━━━━━━━━━━━━━━━━━━━━\u001b[0m\u001b[37m\u001b[0m \u001b[1m41s\u001b[0m 15ms/step - loss: 0.0124 - mae: 0.0780 - val_loss: 0.0157 - val_mae: 0.0885\n",
            "Epoch 31/50\n",
            "\u001b[1m2000/2000\u001b[0m \u001b[32m━━━━━━━━━━━━━━━━━━━━\u001b[0m\u001b[37m\u001b[0m \u001b[1m41s\u001b[0m 15ms/step - loss: 0.0120 - mae: 0.0771 - val_loss: 0.0161 - val_mae: 0.0881\n",
            "Epoch 32/50\n",
            "\u001b[1m2000/2000\u001b[0m \u001b[32m━━━━━━━━━━━━━━━━━━━━\u001b[0m\u001b[37m\u001b[0m \u001b[1m41s\u001b[0m 15ms/step - loss: 0.0122 - mae: 0.0776 - val_loss: 0.0159 - val_mae: 0.0865\n",
            "Epoch 33/50\n",
            "\u001b[1m2000/2000\u001b[0m \u001b[32m━━━━━━━━━━━━━━━━━━━━\u001b[0m\u001b[37m\u001b[0m \u001b[1m41s\u001b[0m 15ms/step - loss: 0.0120 - mae: 0.0769 - val_loss: 0.0157 - val_mae: 0.0865\n",
            "Epoch 34/50\n",
            "\u001b[1m2000/2000\u001b[0m \u001b[32m━━━━━━━━━━━━━━━━━━━━\u001b[0m\u001b[37m\u001b[0m \u001b[1m41s\u001b[0m 15ms/step - loss: 0.0117 - mae: 0.0760 - val_loss: 0.0181 - val_mae: 0.0946\n",
            "Epoch 35/50\n",
            "\u001b[1m2000/2000\u001b[0m \u001b[32m━━━━━━━━━━━━━━━━━━━━\u001b[0m\u001b[37m\u001b[0m \u001b[1m41s\u001b[0m 15ms/step - loss: 0.0115 - mae: 0.0753 - val_loss: 0.0168 - val_mae: 0.0913\n",
            "Epoch 36/50\n",
            "\u001b[1m2000/2000\u001b[0m \u001b[32m━━━━━━━━━━━━━━━━━━━━\u001b[0m\u001b[37m\u001b[0m \u001b[1m41s\u001b[0m 15ms/step - loss: 0.0114 - mae: 0.0752 - val_loss: 0.0163 - val_mae: 0.0889\n",
            "Epoch 37/50\n",
            "\u001b[1m2000/2000\u001b[0m \u001b[32m━━━━━━━━━━━━━━━━━━━━\u001b[0m\u001b[37m\u001b[0m \u001b[1m41s\u001b[0m 15ms/step - loss: 0.0115 - mae: 0.0752 - val_loss: 0.0160 - val_mae: 0.0862\n",
            "Epoch 38/50\n",
            "\u001b[1m2000/2000\u001b[0m \u001b[32m━━━━━━━━━━━━━━━━━━━━\u001b[0m\u001b[37m\u001b[0m \u001b[1m40s\u001b[0m 14ms/step - loss: 0.0110 - mae: 0.0739 - val_loss: 0.0165 - val_mae: 0.0877\n",
            "Epoch 39/50\n",
            "\u001b[1m2000/2000\u001b[0m \u001b[32m━━━━━━━━━━━━━━━━━━━━\u001b[0m\u001b[37m\u001b[0m \u001b[1m41s\u001b[0m 14ms/step - loss: 0.0111 - mae: 0.0742 - val_loss: 0.0182 - val_mae: 0.0924\n",
            "Epoch 40/50\n",
            "\u001b[1m2000/2000\u001b[0m \u001b[32m━━━━━━━━━━━━━━━━━━━━\u001b[0m\u001b[37m\u001b[0m \u001b[1m29s\u001b[0m 14ms/step - loss: 0.0109 - mae: 0.0737 - val_loss: 0.0167 - val_mae: 0.0907\n",
            "Epoch 41/50\n",
            "\u001b[1m2000/2000\u001b[0m \u001b[32m━━━━━━━━━━━━━━━━━━━━\u001b[0m\u001b[37m\u001b[0m \u001b[1m30s\u001b[0m 15ms/step - loss: 0.0110 - mae: 0.0740 - val_loss: 0.0168 - val_mae: 0.0905\n",
            "Epoch 42/50\n",
            "\u001b[1m2000/2000\u001b[0m \u001b[32m━━━━━━━━━━━━━━━━━━━━\u001b[0m\u001b[37m\u001b[0m \u001b[1m30s\u001b[0m 15ms/step - loss: 0.0110 - mae: 0.0740 - val_loss: 0.0168 - val_mae: 0.0889\n",
            "Epoch 43/50\n",
            "\u001b[1m2000/2000\u001b[0m \u001b[32m━━━━━━━━━━━━━━━━━━━━\u001b[0m\u001b[37m\u001b[0m \u001b[1m29s\u001b[0m 15ms/step - loss: 0.0106 - mae: 0.0727 - val_loss: 0.0170 - val_mae: 0.0896\n",
            "Epoch 44/50\n",
            "\u001b[1m2000/2000\u001b[0m \u001b[32m━━━━━━━━━━━━━━━━━━━━\u001b[0m\u001b[37m\u001b[0m \u001b[1m41s\u001b[0m 14ms/step - loss: 0.0107 - mae: 0.0729 - val_loss: 0.0166 - val_mae: 0.0872\n",
            "Epoch 45/50\n",
            "\u001b[1m2000/2000\u001b[0m \u001b[32m━━━━━━━━━━━━━━━━━━━━\u001b[0m\u001b[37m\u001b[0m \u001b[1m29s\u001b[0m 15ms/step - loss: 0.0103 - mae: 0.0716 - val_loss: 0.0164 - val_mae: 0.0888\n",
            "Epoch 46/50\n",
            "\u001b[1m2000/2000\u001b[0m \u001b[32m━━━━━━━━━━━━━━━━━━━━\u001b[0m\u001b[37m\u001b[0m \u001b[1m41s\u001b[0m 15ms/step - loss: 0.0100 - mae: 0.0710 - val_loss: 0.0168 - val_mae: 0.0892\n",
            "Epoch 47/50\n",
            "\u001b[1m2000/2000\u001b[0m \u001b[32m━━━━━━━━━━━━━━━━━━━━\u001b[0m\u001b[37m\u001b[0m \u001b[1m31s\u001b[0m 15ms/step - loss: 0.0103 - mae: 0.0718 - val_loss: 0.0169 - val_mae: 0.0888\n",
            "Epoch 48/50\n",
            "\u001b[1m2000/2000\u001b[0m \u001b[32m━━━━━━━━━━━━━━━━━━━━\u001b[0m\u001b[37m\u001b[0m \u001b[1m32s\u001b[0m 16ms/step - loss: 0.0102 - mae: 0.0716 - val_loss: 0.0167 - val_mae: 0.0892\n",
            "Epoch 49/50\n",
            "\u001b[1m2000/2000\u001b[0m \u001b[32m━━━━━━━━━━━━━━━━━━━━\u001b[0m\u001b[37m\u001b[0m \u001b[1m38s\u001b[0m 19ms/step - loss: 0.0101 - mae: 0.0709 - val_loss: 0.0175 - val_mae: 0.0903\n",
            "Epoch 50/50\n",
            "\u001b[1m2000/2000\u001b[0m \u001b[32m━━━━━━━━━━━━━━━━━━━━\u001b[0m\u001b[37m\u001b[0m \u001b[1m41s\u001b[0m 19ms/step - loss: 0.0099 - mae: 0.0705 - val_loss: 0.0171 - val_mae: 0.0909\n"
          ]
        }
      ],
      "source": [
        "# Train the model\n",
        "history = model.fit(X_train_lstm, y_train_lstm, epochs=50, batch_size=32,\n",
        "                    validation_split=0.2, verbose=1)\n"
      ]
    },
    {
      "cell_type": "code",
      "execution_count": 31,
      "metadata": {
        "colab": {
          "base_uri": "https://localhost:8080/"
        },
        "id": "Si4FCEE8DNHy",
        "outputId": "c04be3cc-b1a8-46c4-efda-91ecf3e0fe80"
      },
      "outputs": [
        {
          "name": "stdout",
          "output_type": "stream",
          "text": [
            "\u001b[1m625/625\u001b[0m \u001b[32m━━━━━━━━━━━━━━━━━━━━\u001b[0m\u001b[37m\u001b[0m \u001b[1m5s\u001b[0m 7ms/step - loss: 0.0172 - mae: 0.0914\n",
            "Test Loss: 0.01721852459013462, Test MAE: 0.09142038971185684\n"
          ]
        }
      ],
      "source": [
        "# Evaluate on test data\n",
        "loss, mae = model.evaluate(X_test_lstm, y_test_lstm)\n",
        "print(f\"Test Loss: {loss}, Test MAE: {mae}\")\n"
      ]
    },
    {
      "cell_type": "code",
      "execution_count": null,
      "metadata": {
        "id": "ee5GHZx2DbPb"
      },
      "outputs": [],
      "source": [
        "# Predict on test data\n",
        "y_pred = model.predict(X_test_lstm)\n",
        "\n",
        "# Reshape predictions and actual values for comparison\n",
        "y_pred = y_pred.flatten()\n"
      ]
    },
    {
      "cell_type": "code",
      "execution_count": null,
      "metadata": {
        "id": "Z5-GP1nMDm4A"
      },
      "outputs": [],
      "source": [
        "import matplotlib.pyplot as plt\n",
        "\n",
        "plt.figure(figsize=(10, 6))\n",
        "plt.plot(y_test_lstm, label='Actual Engagement Rate')\n",
        "plt.plot(y_pred, label='Predicted Engagement Rate', linestyle='dashed')\n",
        "plt.legend()\n",
        "plt.title('LSTM Predictions vs. Actual')\n",
        "plt.xlabel('Time Steps')\n",
        "plt.ylabel('Engagement Rate')\n",
        "plt.show()\n"
      ]
    },
    {
      "cell_type": "code",
      "execution_count": 32,
      "metadata": {
        "colab": {
          "base_uri": "https://localhost:8080/"
        },
        "id": "9VmKt3nmcLCA",
        "outputId": "3921ea38-3d45-41c4-a166-76ec6093fe9d"
      },
      "outputs": [
        {
          "name": "stderr",
          "output_type": "stream",
          "text": [
            "WARNING:absl:You are saving your model as an HDF5 file via `model.save()` or `keras.saving.save_model(model)`. This file format is considered legacy. We recommend using instead the native Keras format, e.g. `model.save('my_model.keras')` or `keras.saving.save_model(model, 'my_model.keras')`. \n"
          ]
        }
      ],
      "source": [
        "# Save the entire model\n",
        "model.save(\"lstm_model_2.h5\")  # Save as a single HDF5 file\n"
      ]
    },
    {
      "cell_type": "code",
      "execution_count": null,
      "metadata": {
        "id": "P0EJrtDb9ldh"
      },
      "outputs": [],
      "source": []
    },
    {
      "cell_type": "markdown",
      "metadata": {
        "id": "v3hqxU6kcbl4"
      },
      "source": [
        "# New Section"
      ]
    },
    {
      "cell_type": "code",
      "execution_count": null,
      "metadata": {
        "id": "sVvM_yQuaXEE"
      },
      "outputs": [],
      "source": [
        "mean_engagement_rate = data['Engagement Rate'].mean()\n",
        "median_engagement_rate = data['Engagement Rate'].median()\n",
        "\n",
        "print(\"Mean Engagement Rate:\", mean_engagement_rate)\n",
        "print(\"Median Engagement Rate:\", median_engagement_rate)\n"
      ]
    },
    {
      "cell_type": "code",
      "execution_count": 104,
      "metadata": {
        "id": "4Mvy6ov3Pn92"
      },
      "outputs": [],
      "source": [
        "mean_Likes = data['Likes'].mean()\n",
        "mean_Shares = data['Shares'].mean()\n",
        "mean_Impressions = data['Impressions'].mean()\n",
        "mean_comments = data['Comments'].mean()\n",
        "mean_reach = data['Reach'].mean()"
      ]
    },
    {
      "cell_type": "code",
      "execution_count": 115,
      "metadata": {
        "colab": {
          "base_uri": "https://localhost:8080/"
        },
        "id": "CiwIm10KDPNk",
        "outputId": "fd9d904c-bfaf-4c62-e31c-0cc11c034d9c"
      },
      "outputs": [
        {
          "name": "stdout",
          "output_type": "stream",
          "text": [
            "Mean Engagement Rate: 0.49939624000000005\n",
            "Mean Engagement Rate: 0.50059255\n",
            "Mean Engagement Rate: 0.4986254511111111\n",
            "Mean Engagement Rate: 0.4993984\n",
            "Mean Engagement Rate: 0.5003377733333333\n"
          ]
        }
      ],
      "source": [
        "print(\"Mean Engagement Rate:\", mean_Likes )\n",
        "print(\"Mean Engagement Rate:\", mean_Shares)\n",
        "print(\"Mean Engagement Rate:\", mean_Impressions)\n",
        "print(\"Mean Engagement Rate:\", mean_comments)\n",
        "print(\"Mean Engagement Rate:\", mean_reach)"
      ]
    },
    {
      "cell_type": "code",
      "execution_count": 116,
      "metadata": {
        "colab": {
          "base_uri": "https://localhost:8080/"
        },
        "id": "YEObErGB5aoM",
        "outputId": "8d2afa84-3cde-46ec-a13e-6b53d957a033"
      },
      "outputs": [
        {
          "name": "stdout",
          "output_type": "stream",
          "text": [
            "Sample input data shape: (29, 1, 24)\n"
          ]
        }
      ],
      "source": [
        "import numpy as np\n",
        "import pandas as pd\n",
        "from sklearn.preprocessing import MinMaxScaler\n",
        "\n",
        "# Function to generate data for the given date range\n",
        "def generate_data_for_date_range(start_date, end_date , input_values , mean_values):\n",
        "    # Generate a range of timestamps between the start and end dates\n",
        "    timestamps = pd.date_range(start=start_date, end=end_date, freq='D')\n",
        "\n",
        "    # Create constant values for Likes, Comments, Shares, Impressions, Reach based on the provided mean_values\n",
        "    data = {\n",
        "        \"Likes\": mean_Likes * len(timestamps),\n",
        "        \"Comments\": mean_comments * len(timestamps),\n",
        "        \"Shares\": mean_Shares * len(timestamps),\n",
        "        \"Impressions\": mean_Impressions * len(timestamps),\n",
        "        \"Reach\": mean_reach* len(timestamps),\n",
        "        \"Audience Age\": input_values['Audience Age']*len(timestamps),\n",
        "        \"Platform_Instagram\": input_values['Platform_Instagram']*len(timestamps),\n",
        "        \"Platform_LinkedIn\": input_values['Platform_LinkedIn']*len(timestamps),\n",
        "        \"Platform_Twitter\": input_values['Platform_Twitter']*len(timestamps),\n",
        "        \"Post Type_Link\": input_values['Post Type_Link']*len(timestamps),\n",
        "        \"Post Type_Video\": input_values['Post Type_Video']*len(timestamps),\n",
        "        \"Audience Gender_Male\": input_values['Audience Gender_Male']*len(timestamps),\n",
        "        \"Audience Gender_Other\": input_values['Audience Gender_Other']*len(timestamps),\n",
        "        \"Sentiment_Neutral\":input_values['Sentiment_Neutral']*len(timestamps),\n",
        "        \"Sentiment_Positive\": input_values['Sentiment_Positive']*len(timestamps),\n",
        "    }\n",
        "\n",
        "    # Create a DataFrame with the generated data\n",
        "    df = pd.DataFrame(data, index=timestamps)\n",
        "\n",
        "    # Extract features from the timestamp\n",
        "    df['Day'] = df.index.day\n",
        "    df['Minute'] = df.index.minute\n",
        "    df['Second'] = df.index.second\n",
        "    df['Day of Week'] = df.index.dayofweek\n",
        "    df['Is Weekend'] = df['Day of Week'].apply(lambda x: 1 if x >= 5 else 0)\n",
        "\n",
        "    # Create cyclic features for Month and Hour\n",
        "    df['Month_sin'] = np.sin(2 * np.pi * df.index.month / 12)\n",
        "    df['Month_cos'] = np.cos(2 * np.pi * df.index.month / 12)\n",
        "    df['Hour_sin'] = np.sin(2 * np.pi * df.index.hour / 24)\n",
        "    df['Hour_cos'] = np.cos(2 * np.pi * df.index.hour / 24)\n",
        "\n",
        "    # Reset index and drop the timestamp column\n",
        "    df = df.reset_index(drop=True)\n",
        "\n",
        "    return df\n",
        "\n",
        "# Example input dates (you can change these as needed)\n",
        "start_date = \"2023-01-01\"\n",
        "end_date = \"2023-01-30\"\n",
        "input_values = {\n",
        "    \"Audience Age\": 28,\n",
        "        \"Platform_Instagram\": 1,\n",
        "        \"Platform_LinkedIn\": 1,\n",
        "        \"Platform_Twitter\": 0,\n",
        "        \"Post Type_Link\": 0,\n",
        "        \"Post Type_Video\": 1,\n",
        "        \"Audience Gender_Male\": 0,\n",
        "        \"Audience Gender_Other\": 1,\n",
        "        \"Sentiment_Neutral\": 1,\n",
        "        \"Sentiment_Positive\": 0\n",
        "}\n",
        "\n",
        "# mean values , will always remain constant\n",
        "mean_values = {\n",
        "    mean_Likes :  0.49939624000000005,\n",
        "    mean_Shares : 0.50059255,\n",
        "    mean_Impressions : 0.4986254511111111,\n",
        "    mean_comments : 0.4993984,\n",
        "    mean_reach : 0.5003377733333333\n",
        "}\n",
        "\n",
        "\n",
        "# Generate the data for the given date range with mean values\n",
        "df = generate_data_for_date_range(start_date, end_date, input_values , mean_values)\n",
        "\n",
        "# Define the target and features\n",
        "target = \"Engagement Rate\"  # Assuming you have this column in your full dataset\n",
        "features = [col for col in df.columns if col != target]\n",
        "\n",
        "# Scale the input features (use the same scaler that was used during training)\n",
        "scaler = MinMaxScaler()\n",
        "scaled_data = scaler.fit_transform(df[features])\n",
        "\n",
        "# Prepare input data (use the last 1 timestep, as time_steps is set to 1 here)\n",
        "time_steps = 1\n",
        "input_data = []\n",
        "\n",
        "# Add dummy data to meet the time_steps requirement\n",
        "for i in range(time_steps, len(scaled_data)):\n",
        "    input_data.append(scaled_data[i-time_steps:i])\n",
        "\n",
        "input_data = np.array(input_data)\n",
        "\n",
        "# The input data is now ready to be passed into the model for prediction\n",
        "print(\"Sample input data shape:\", input_data.shape)\n"
      ]
    },
    {
      "cell_type": "code",
      "execution_count": 3,
      "metadata": {
        "colab": {
          "base_uri": "https://localhost:8080/",
          "height": 141
        },
        "id": "JOOW3gs3zzRr",
        "outputId": "0af3e8ae-01dc-4ba7-f0a1-25dc907a0e98"
      },
      "outputs": [
        {
          "ename": "NameError",
          "evalue": "name 'model' is not defined",
          "output_type": "error",
          "traceback": [
            "\u001b[0;31m---------------------------------------------------------------------------\u001b[0m",
            "\u001b[0;31mNameError\u001b[0m                                 Traceback (most recent call last)",
            "\u001b[0;32m<ipython-input-3-cc38265b6ea2>\u001b[0m in \u001b[0;36m<cell line: 0>\u001b[0;34m()\u001b[0m\n\u001b[0;32m----> 1\u001b[0;31m \u001b[0mpredicted_engagement_rate\u001b[0m \u001b[0;34m=\u001b[0m \u001b[0mmodel\u001b[0m\u001b[0;34m.\u001b[0m\u001b[0mpredict\u001b[0m\u001b[0;34m(\u001b[0m\u001b[0minput_data\u001b[0m\u001b[0;34m)\u001b[0m\u001b[0;34m\u001b[0m\u001b[0;34m\u001b[0m\u001b[0m\n\u001b[0m",
            "\u001b[0;31mNameError\u001b[0m: name 'model' is not defined"
          ]
        }
      ],
      "source": [
        "predicted_engagement_rate = model.predict(input_data)"
      ]
    },
    {
      "cell_type": "code",
      "execution_count": 2,
      "metadata": {
        "colab": {
          "base_uri": "https://localhost:8080/",
          "height": 141
        },
        "collapsed": true,
        "id": "jcVyCO-CSUuZ",
        "outputId": "0b9a15b1-dc8c-433c-8a0b-1d5f0ac26fd2"
      },
      "outputs": [
        {
          "ename": "NameError",
          "evalue": "name 'predicted_engagement_rate' is not defined",
          "output_type": "error",
          "traceback": [
            "\u001b[0;31m---------------------------------------------------------------------------\u001b[0m",
            "\u001b[0;31mNameError\u001b[0m                                 Traceback (most recent call last)",
            "\u001b[0;32m<ipython-input-2-2a2190765545>\u001b[0m in \u001b[0;36m<cell line: 0>\u001b[0;34m()\u001b[0m\n\u001b[0;32m----> 1\u001b[0;31m \u001b[0mprint\u001b[0m\u001b[0;34m(\u001b[0m\u001b[0mpredicted_engagement_rate\u001b[0m\u001b[0;34m)\u001b[0m\u001b[0;34m\u001b[0m\u001b[0;34m\u001b[0m\u001b[0m\n\u001b[0m",
            "\u001b[0;31mNameError\u001b[0m: name 'predicted_engagement_rate' is not defined"
          ]
        }
      ],
      "source": [
        "print(predicted_engagement_rate)"
      ]
    },
    {
      "cell_type": "code",
      "execution_count": 1,
      "metadata": {
        "colab": {
          "base_uri": "https://localhost:8080/",
          "height": 228
        },
        "id": "lO9kxOKukK1w",
        "outputId": "069e5337-8898-497b-f208-f7cafcb17d14"
      },
      "outputs": [
        {
          "ename": "NameError",
          "evalue": "name 'predicted_engagement_rate' is not defined",
          "output_type": "error",
          "traceback": [
            "\u001b[0;31m---------------------------------------------------------------------------\u001b[0m",
            "\u001b[0;31mNameError\u001b[0m                                 Traceback (most recent call last)",
            "\u001b[0;32m<ipython-input-1-45003880e9ce>\u001b[0m in \u001b[0;36m<cell line: 0>\u001b[0;34m()\u001b[0m\n\u001b[1;32m      1\u001b[0m \u001b[0;31m# Assuming `predicted_engagement_rate` is a numpy array\u001b[0m\u001b[0;34m\u001b[0m\u001b[0;34m\u001b[0m\u001b[0m\n\u001b[0;32m----> 2\u001b[0;31m \u001b[0mpredicted_engagement_rate\u001b[0m \u001b[0;34m=\u001b[0m \u001b[0mpredicted_engagement_rate\u001b[0m\u001b[0;34m.\u001b[0m\u001b[0mflatten\u001b[0m\u001b[0;34m(\u001b[0m\u001b[0;34m)\u001b[0m  \u001b[0;31m# Flatten in case it's a multidimensional array\u001b[0m\u001b[0;34m\u001b[0m\u001b[0;34m\u001b[0m\u001b[0m\n\u001b[0m\u001b[1;32m      3\u001b[0m \u001b[0;34m\u001b[0m\u001b[0m\n\u001b[1;32m      4\u001b[0m \u001b[0;31m# Recreate the timestamps for the generated data\u001b[0m\u001b[0;34m\u001b[0m\u001b[0;34m\u001b[0m\u001b[0m\n\u001b[1;32m      5\u001b[0m \u001b[0mtimestamps\u001b[0m \u001b[0;34m=\u001b[0m \u001b[0mpd\u001b[0m\u001b[0;34m.\u001b[0m\u001b[0mdate_range\u001b[0m\u001b[0;34m(\u001b[0m\u001b[0mstart\u001b[0m\u001b[0;34m=\u001b[0m\u001b[0mstart_date\u001b[0m\u001b[0;34m,\u001b[0m \u001b[0mend\u001b[0m\u001b[0;34m=\u001b[0m\u001b[0mend_date\u001b[0m\u001b[0;34m,\u001b[0m \u001b[0mfreq\u001b[0m\u001b[0;34m=\u001b[0m\u001b[0;34m'D'\u001b[0m\u001b[0;34m)\u001b[0m\u001b[0;34m\u001b[0m\u001b[0;34m\u001b[0m\u001b[0m\n",
            "\u001b[0;31mNameError\u001b[0m: name 'predicted_engagement_rate' is not defined"
          ]
        }
      ],
      "source": [
        "# Assuming `predicted_engagement_rate` is a numpy array\n",
        "predicted_engagement_rate = predicted_engagement_rate.flatten()  # Flatten in case it's a multidimensional array\n",
        "\n",
        "# Recreate the timestamps for the generated data\n",
        "timestamps = pd.date_range(start=start_date, end=end_date, freq='D')\n",
        "\n",
        "# Create a DataFrame to combine timestamps and predicted engagement rates\n",
        "results = pd.DataFrame({\n",
        "    \"Timestamp\": timestamps,\n",
        "    \"Predicted Engagement Rate\": predicted_engagement_rate\n",
        "})\n",
        "\n",
        "# Print the results in order\n",
        "print(results)\n"
      ]
    }
  ],
  "metadata": {
    "colab": {
      "provenance": []
    },
    "kernelspec": {
      "display_name": "Python 3",
      "name": "python3"
    },
    "language_info": {
      "codemirror_mode": {
        "name": "ipython",
        "version": 3
      },
      "file_extension": ".py",
      "mimetype": "text/x-python",
      "name": "python",
      "nbconvert_exporter": "python",
      "pygments_lexer": "ipython3",
      "version": "3.13.1"
    }
  },
  "nbformat": 4,
  "nbformat_minor": 0
}
